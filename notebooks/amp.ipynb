{
 "cells": [
  {
   "cell_type": "markdown",
   "id": "3656d2ca-f2f2-4679-a258-9be40bfcdf28",
   "metadata": {},
   "source": [
    "1. Pad sizes with 8\n",
    "2. bfloat16 represents the same range as 16\n",
    "3. Summation, exp, log should use full precision\n",
    "\n",
    "https://on-demand.gputechconf.com/gtcdc/2019/pdf/dc91247-automatic-mixed-precision-in-tensorflow.pdf\n",
    "https://www.tensorflow.org/guide/mixed_precision\n",
    "https://developer.download.nvidia.com/video/gputechconf/gtc/2020/presentations/s21929-tensor-core-performance-on-nvidia-gpus-the-ultimate-guide.pdf\n",
    "https://pytorch.org/blog/what-every-user-should-know-about-mixed-precision-training-in-pytorch/"
   ]
  },
  {
   "cell_type": "code",
   "execution_count": 1,
   "id": "1aa21eaa-d75f-4be9-8431-251615e58457",
   "metadata": {},
   "outputs": [
    {
     "name": "stderr",
     "output_type": "stream",
     "text": [
      "WARNING: All log messages before absl::InitializeLog() is called are written to STDERR\n",
      "I0000 00:00:1699456257.913252   28069 tfrt_cpu_pjrt_client.cc:349] TfrtCpuClient created.\n"
     ]
    }
   ],
   "source": [
    "import jax\n",
    "import jax.numpy as jnp\n",
    "import numpy as np\n",
    "import flax\n",
    "import flax.linen as nn\n",
    "\n",
    "\n",
    "jax.config.update('jax_enable_x64', True)\n",
    "# jax.config.update('jax_platform_name', 'cpu')\n",
    "key = jax.random.PRNGKey(0)"
   ]
  },
  {
   "cell_type": "code",
   "execution_count": 11,
   "id": "09421284-041a-4e63-9021-cc121ab2c67f",
   "metadata": {},
   "outputs": [],
   "source": [
    "N = 1 << 12\n",
    "dtype = jnp.float16\n",
    "x = jax.device_put(jnp.zeros((N,), dtype=dtype))\n",
    "ln = nn.Dense(N, dtype=dtype, param_dtype=dtype)"
   ]
  },
  {
   "cell_type": "code",
   "execution_count": 12,
   "id": "ad7e9f38-796f-4d28-9428-ab1e1bbf090a",
   "metadata": {},
   "outputs": [
    {
     "data": {
      "text/plain": [
       "(dtype('float16'),\n",
       " {'params': {'bias': dtype('float16'), 'kernel': dtype('float16')}})"
      ]
     },
     "execution_count": 12,
     "metadata": {},
     "output_type": "execute_result"
    }
   ],
   "source": [
    "out, params = ln.init_with_output(key, x)\n",
    "fn = jax.jit(ln.apply)\n",
    "fn(params, x)\n",
    "out.dtype, jax.tree_map(lambda x: x.dtype, params)"
   ]
  },
  {
   "cell_type": "code",
   "execution_count": 10,
   "id": "dcd457bd-461c-4738-817c-6e9ef4d2bda5",
   "metadata": {},
   "outputs": [
    {
     "name": "stdout",
     "output_type": "stream",
     "text": [
      "313 µs ± 12.9 µs per loop (mean ± std. dev. of 7 runs, 1,000 loops each)\n"
     ]
    }
   ],
   "source": [
    "%%timeit\n",
    "fn(params, x).block_until_ready()"
   ]
  },
  {
   "cell_type": "code",
   "execution_count": 13,
   "id": "02cb3ffb-765b-4928-83c9-a9fb0a47ee53",
   "metadata": {},
   "outputs": [
    {
     "name": "stdout",
     "output_type": "stream",
     "text": [
      "181 µs ± 3.19 µs per loop (mean ± std. dev. of 7 runs, 10,000 loops each)\n"
     ]
    }
   ],
   "source": [
    "%%timeit\n",
    "fn(params, x).block_until_ready()"
   ]
  },
  {
   "cell_type": "code",
   "execution_count": 12,
   "id": "49f0921d-ad8e-4774-8908-8e58b2d8c7e2",
   "metadata": {},
   "outputs": [],
   "source": [
    "M = jnp.zeros((1024, 1024), dtype=jnp.float16)"
   ]
  },
  {
   "cell_type": "code",
   "execution_count": 11,
   "id": "01746460-5380-4115-9ad9-a09ff2ba585a",
   "metadata": {},
   "outputs": [
    {
     "name": "stdout",
     "output_type": "stream",
     "text": [
      "551 µs ± 14.3 µs per loop (mean ± std. dev. of 7 runs, 1,000 loops each)\n"
     ]
    }
   ],
   "source": [
    "%%timeit\n",
    "jnp.sum(M @ M).block_until_ready()"
   ]
  },
  {
   "cell_type": "code",
   "execution_count": 13,
   "id": "9259c4f6-6937-483b-b881-078e59aed3d9",
   "metadata": {},
   "outputs": [
    {
     "name": "stdout",
     "output_type": "stream",
     "text": [
      "357 µs ± 39.1 µs per loop (mean ± std. dev. of 7 runs, 1 loop each)\n"
     ]
    }
   ],
   "source": [
    "%%timeit\n",
    "jnp.sum(M @ M).block_until_ready()"
   ]
  }
 ],
 "metadata": {
  "kernelspec": {
   "display_name": "Python 3 (ipykernel)",
   "language": "python",
   "name": "python3"
  },
  "language_info": {
   "codemirror_mode": {
    "name": "ipython",
    "version": 3
   },
   "file_extension": ".py",
   "mimetype": "text/x-python",
   "name": "python",
   "nbconvert_exporter": "python",
   "pygments_lexer": "ipython3",
   "version": "3.10.13"
  }
 },
 "nbformat": 4,
 "nbformat_minor": 5
}
