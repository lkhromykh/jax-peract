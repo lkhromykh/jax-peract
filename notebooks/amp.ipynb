{
 "cells": [
  {
   "cell_type": "markdown",
   "id": "3656d2ca-f2f2-4679-a258-9be40bfcdf28",
   "metadata": {},
   "source": [
    "1. Pad sizes with 8\n",
    "2. bfloat16 represents the same range as 16\n",
    "3. Summation, exp, log should use full precision\n",
    "\n",
    "https://on-demand.gputechconf.com/gtcdc/2019/pdf/dc91247-automatic-mixed-precision-in-tensorflow.pdf\n",
    "https://www.tensorflow.org/guide/mixed_precision\n",
    "https://developer.download.nvidia.com/video/gputechconf/gtc/2020/presentations/s21929-tensor-core-performance-on-nvidia-gpus-the-ultimate-guide.pdf\n",
    "https://pytorch.org/blog/what-every-user-should-know-about-mixed-precision-training-in-pytorch/"
   ]
  },
  {
   "cell_type": "code",
   "execution_count": 1,
   "id": "1aa21eaa-d75f-4be9-8431-251615e58457",
   "metadata": {},
   "outputs": [],
   "source": [
    "import jax\n",
    "import jax.numpy as jnp\n",
    "import numpy as np\n",
    "import flax\n",
    "import flax.linen as nn\n",
    "\n",
    "\n",
    "# jax.config.update('jax_enable_x64', True)\n",
    "# jax.config.update('jax_platform_name', 'cpu')\n",
    "key = jax.random.PRNGKey(0)"
   ]
  },
  {
   "cell_type": "code",
   "execution_count": 32,
   "id": "a6301c53-2df5-452c-a04b-b6e82131d00d",
   "metadata": {},
   "outputs": [
    {
     "data": {
      "text/plain": [
       "<Precision.DEFAULT: 0>"
      ]
     },
     "execution_count": 32,
     "metadata": {},
     "output_type": "execute_result"
    }
   ],
   "source": [
    "jax.lax.Precision.DEFAULT"
   ]
  },
  {
   "cell_type": "code",
   "execution_count": 29,
   "id": "1accb061-3175-433e-85a3-c83b674abe56",
   "metadata": {},
   "outputs": [
    {
     "data": {
      "text/plain": [
       "{ lambda ; a:f32[5] b:f32[4,5] c:bf16[4]. let\n",
       "    d:bf16[4,5] = convert_element_type[new_dtype=bfloat16 weak_type=False] b\n",
       "    e:bf16[5] = convert_element_type[new_dtype=bfloat16 weak_type=False] a\n",
       "    f:bf16[5] = dot_general[dimension_numbers=(([0], [0]), ([], []))] c d\n",
       "    g:bf16[5] = add f e\n",
       "  in (g,) }"
      ]
     },
     "execution_count": 29,
     "metadata": {},
     "output_type": "execute_result"
    }
   ],
   "source": [
    "m = nn.Dense(5, dtype=jnp.bfloat16)\n",
    "x = jnp.zeros(4, dtype=jnp.bfloat16)\n",
    "p = m.init(key, x)\n",
    "\n",
    "jax.make_jaxpr(m.apply)(p, x)"
   ]
  },
  {
   "cell_type": "code",
   "execution_count": 30,
   "id": "4b06e9d6-f75a-4bf4-9e05-2e53bacbf4f9",
   "metadata": {},
   "outputs": [
    {
     "data": {
      "text/plain": [
       "{ lambda ; a:f32[5] b:f32[4,5] c:bf16[4]. let\n",
       "    d:bf16[4,5] = convert_element_type[new_dtype=bfloat16 weak_type=False] b\n",
       "    e:bf16[5] = convert_element_type[new_dtype=bfloat16 weak_type=False] a\n",
       "    f:bf16[5] = dot_general[\n",
       "      dimension_numbers=(([0], [0]), ([], []))\n",
       "      precision=(<Precision.DEFAULT: 0>, <Precision.DEFAULT: 0>)\n",
       "    ] c d\n",
       "    g:bf16[5] = add f e\n",
       "  in (g,) }"
      ]
     },
     "execution_count": 30,
     "metadata": {},
     "output_type": "execute_result"
    }
   ],
   "source": [
    "m = nn.Dense(5, dtype=jnp.bfloat16, precision=jax.lax.Precision.DEFAULT)\n",
    "x = jnp.zeros(4, dtype=jnp.bfloat16)\n",
    "p = m.init(key, x)\n",
    "\n",
    "jax.make_jaxpr(m.apply)(p, x)"
   ]
  },
  {
   "cell_type": "code",
   "execution_count": 33,
   "id": "02f4c0c7-ae9c-4e57-8306-266cb30dd6bf",
   "metadata": {},
   "outputs": [
    {
     "data": {
      "text/plain": [
       "{ lambda ; a:f32[5] b:f32[4,5] c:bf16[4]. let\n",
       "    d:bf16[4,5] = convert_element_type[new_dtype=bfloat16 weak_type=False] b\n",
       "    e:bf16[5] = convert_element_type[new_dtype=bfloat16 weak_type=False] a\n",
       "    f:bf16[5] = dot_general[\n",
       "      dimension_numbers=(([0], [0]), ([], []))\n",
       "      precision=(<Precision.HIGHEST: 2>, <Precision.HIGHEST: 2>)\n",
       "    ] c d\n",
       "    g:bf16[5] = add f e\n",
       "  in (g,) }"
      ]
     },
     "execution_count": 33,
     "metadata": {},
     "output_type": "execute_result"
    }
   ],
   "source": [
    "m = nn.Dense(5, dtype=jnp.bfloat16, precision=jax.lax.Precision.HIGHEST)\n",
    "x = jnp.zeros(4, dtype=jnp.bfloat16)\n",
    "p = m.init(key, x)\n",
    "\n",
    "jax.make_jaxpr(m.apply)(p, x)"
   ]
  },
  {
   "cell_type": "code",
   "execution_count": null,
   "id": "81606d66-b3c4-4e36-8d46-0f23f1a2f877",
   "metadata": {},
   "outputs": [],
   "source": []
  }
 ],
 "metadata": {
  "kernelspec": {
   "display_name": "Python 3 (ipykernel)",
   "language": "python",
   "name": "python3"
  },
  "language_info": {
   "codemirror_mode": {
    "name": "ipython",
    "version": 3
   },
   "file_extension": ".py",
   "mimetype": "text/x-python",
   "name": "python",
   "nbconvert_exporter": "python",
   "pygments_lexer": "ipython3",
   "version": "3.10.13"
  }
 },
 "nbformat": 4,
 "nbformat_minor": 5
}
