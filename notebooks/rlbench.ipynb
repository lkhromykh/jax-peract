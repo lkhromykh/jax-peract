{
 "cells": [
  {
   "cell_type": "code",
   "execution_count": 1,
   "id": "cad5b321-376a-40dc-ab5e-22e0a1405c6a",
   "metadata": {},
   "outputs": [],
   "source": [
    "%load_ext autoreload\n",
    "%autoreload 2"
   ]
  },
  {
   "cell_type": "code",
   "execution_count": 1,
   "id": "293a8ec6-4795-4791-96c8-c7bc77172e95",
   "metadata": {},
   "outputs": [
    {
     "name": "stdout",
     "output_type": "stream",
     "text": [
      "Jupyter environment detected. Enabling Open3D WebVisualizer.\n",
      "[Open3D INFO] WebRTC GUI backend enabled.\n",
      "[Open3D INFO] WebRTCWindowSystem: HTTP handshake server disabled.\n"
     ]
    }
   ],
   "source": [
    "import numpy as np\n",
    "import open3d as o3d\n",
    "from rlbench.action_modes.action_mode import MoveArmThenGripper\n",
    "from rlbench.action_modes.arm_action_modes import JointVelocity\n",
    "from rlbench.action_modes.gripper_action_modes import Discrete\n",
    "from rlbench.environment import Environment\n",
    "from rlbench.tasks import ReachTarget"
   ]
  },
  {
   "cell_type": "code",
   "execution_count": 2,
   "id": "5afb20e3-3525-40d9-b31f-a70dafcc890e",
   "metadata": {},
   "outputs": [],
   "source": [
    "action_mode = MoveArmThenGripper(\n",
    "  arm_action_mode=JointVelocity(),\n",
    "  gripper_action_mode=Discrete()\n",
    ")\n",
    "env = Environment(action_mode, headless=False)\n",
    "env.launch()\n",
    "\n",
    "task = env.get_task(ReachTarget)\n",
    "descriptions, obs = task.reset()\n",
    "obs, reward, terminate = task.step(np.random.normal(size=env.action_shape))"
   ]
  },
  {
   "cell_type": "code",
   "execution_count": 4,
   "id": "b3f9fd8f-ba04-44bf-bd79-dd233fe94a80",
   "metadata": {},
   "outputs": [],
   "source": [
    "demo = task.get_demos(amount=1, live_demos=True)"
   ]
  },
  {
   "cell_type": "code",
   "execution_count": 8,
   "id": "f1ec4176-d718-4dfb-ab37-f44854a17908",
   "metadata": {},
   "outputs": [],
   "source": [
    "rd = reversed(demo)"
   ]
  },
  {
   "cell_type": "code",
   "execution_count": 12,
   "id": "2291287c-21d0-4825-9f3a-73b5d4bb464c",
   "metadata": {},
   "outputs": [],
   "source": [
    "import sys\n",
    "sys.path.append('../')\n",
    "\n",
    "from src.rlbench.enviroment import RLBenchEnv"
   ]
  },
  {
   "cell_type": "code",
   "execution_count": 2,
   "id": "dd46c909-6c05-4083-8e8f-7840c4f65497",
   "metadata": {},
   "outputs": [],
   "source": [
    "import numpy as np\n",
    "action_bounds = np.array([-0.3, -0.5, 0.6, -1, -1, -1, -1, 0]), np.array([0.7, 0.5, 1.6, 1, 1, 1, 1, 1])\n",
    "nbins = 10"
   ]
  },
  {
   "cell_type": "code",
   "execution_count": 3,
   "id": "a4013d04-faa5-48f9-a6cf-b7d6eac06079",
   "metadata": {},
   "outputs": [],
   "source": [
    "env = RLBenchEnv('CloseBox', action_bounds, nbins)"
   ]
  },
  {
   "cell_type": "code",
   "execution_count": 4,
   "id": "b87608cc-41da-4e15-a11a-1356cb61a04a",
   "metadata": {},
   "outputs": [],
   "source": [
    "demos = env.get_demos(2)"
   ]
  },
  {
   "cell_type": "code",
   "execution_count": 18,
   "id": "62a425e5-dec0-48b9-8a50-7d2473a92cd4",
   "metadata": {},
   "outputs": [],
   "source": [
    "obs = demo[0]"
   ]
  },
  {
   "cell_type": "code",
   "execution_count": 7,
   "id": "8deb25a8-063f-4361-ae4a-25ce7a2fe0ee",
   "metadata": {},
   "outputs": [
    {
     "data": {
      "text/plain": [
       "(219, 29)"
      ]
     },
     "execution_count": 7,
     "metadata": {},
     "output_type": "execute_result"
    }
   ],
   "source": [
    "demos[1]['lowdim'].shape"
   ]
  },
  {
   "cell_type": "code",
   "execution_count": 25,
   "id": "a71dd4cf-6f1a-4270-be06-4927b918a6d5",
   "metadata": {},
   "outputs": [],
   "source": [
    "obs.gripper_touch_forces"
   ]
  },
  {
   "cell_type": "code",
   "execution_count": null,
   "id": "8abf34f1-95ed-4f25-88f8-c60bdc1fe4a2",
   "metadata": {},
   "outputs": [],
   "source": []
  }
 ],
 "metadata": {
  "kernelspec": {
   "display_name": "Python 3 (ipykernel)",
   "language": "python",
   "name": "python3"
  },
  "language_info": {
   "codemirror_mode": {
    "name": "ipython",
    "version": 3
   },
   "file_extension": ".py",
   "mimetype": "text/x-python",
   "name": "python",
   "nbconvert_exporter": "python",
   "pygments_lexer": "ipython3",
   "version": "3.10.12"
  }
 },
 "nbformat": 4,
 "nbformat_minor": 5
}
