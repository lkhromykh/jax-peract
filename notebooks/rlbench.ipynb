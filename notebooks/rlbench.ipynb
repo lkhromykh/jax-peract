{
 "cells": [
  {
   "cell_type": "code",
   "execution_count": 1,
   "id": "cad5b321-376a-40dc-ab5e-22e0a1405c6a",
   "metadata": {},
   "outputs": [],
   "source": [
    "%load_ext autoreload\n",
    "%autoreload 2"
   ]
  },
  {
   "cell_type": "code",
   "execution_count": 1,
   "id": "293a8ec6-4795-4791-96c8-c7bc77172e95",
   "metadata": {},
   "outputs": [
    {
     "name": "stdout",
     "output_type": "stream",
     "text": [
      "Jupyter environment detected. Enabling Open3D WebVisualizer.\n",
      "[Open3D INFO] WebRTC GUI backend enabled.\n",
      "[Open3D INFO] WebRTCWindowSystem: HTTP handshake server disabled.\n"
     ]
    }
   ],
   "source": [
    "import numpy as np\n",
    "import open3d as o3d\n",
    "from rlbench.action_modes.action_mode import MoveArmThenGripper\n",
    "from rlbench.action_modes.arm_action_modes import JointVelocity\n",
    "from rlbench.action_modes.gripper_action_modes import Discrete\n",
    "from rlbench.environment import Environment\n",
    "from rlbench.tasks import ReachTarget"
   ]
  },
  {
   "cell_type": "code",
   "execution_count": 2,
   "id": "5afb20e3-3525-40d9-b31f-a70dafcc890e",
   "metadata": {},
   "outputs": [],
   "source": [
    "action_mode = MoveArmThenGripper(\n",
    "  arm_action_mode=JointVelocity(),\n",
    "  gripper_action_mode=Discrete()\n",
    ")\n",
    "env = Environment(action_mode, headless=False)\n",
    "env.launch()\n",
    "\n",
    "task = env.get_task(ReachTarget)\n",
    "descriptions, obs = task.reset()\n",
    "obs, reward, terminate = task.step(np.random.normal(size=env.action_shape))"
   ]
  },
  {
   "cell_type": "code",
   "execution_count": 2,
   "id": "2291287c-21d0-4825-9f3a-73b5d4bb464c",
   "metadata": {},
   "outputs": [
    {
     "name": "stdout",
     "output_type": "stream",
     "text": [
      "Jupyter environment detected. Enabling Open3D WebVisualizer.\n",
      "[Open3D INFO] WebRTC GUI backend enabled.\n",
      "[Open3D INFO] WebRTCWindowSystem: HTTP handshake server disabled.\n"
     ]
    }
   ],
   "source": [
    "import sys\n",
    "sys.path.append('../')\n",
    "\n",
    "from src.rlbench.enviroment import RLBenchEnv"
   ]
  },
  {
   "cell_type": "code",
   "execution_count": 3,
   "id": "dd46c909-6c05-4083-8e8f-7840c4f65497",
   "metadata": {},
   "outputs": [],
   "source": [
    "import numpy as np\n",
    "action_bounds = np.array([-0.3, -0.5, 0.6]), np.array([0.7, 0.5, 1.6])\n",
    "nbins = 10"
   ]
  },
  {
   "cell_type": "code",
   "execution_count": 4,
   "id": "a4013d04-faa5-48f9-a6cf-b7d6eac06079",
   "metadata": {},
   "outputs": [],
   "source": [
    "env = RLBenchEnv('ReachTarget', action_bounds, nbins)"
   ]
  },
  {
   "cell_type": "code",
   "execution_count": null,
   "id": "1f7f6c48-24d5-479d-90f2-d2a4b36b99fd",
   "metadata": {},
   "outputs": [
    {
     "name": "stdout",
     "output_type": "stream",
     "text": [
      "Keyframes num:  2\n",
      "Keyframes num:  3\n",
      "Keyframes num:  3\n",
      "Keyframes num:  3\n",
      "Keyframes num:  4\n",
      "Keyframes num:  3\n",
      "Keyframes num:  3\n",
      "Keyframes num:  3\n",
      "Keyframes num:  2\n",
      "Keyframes num:  2\n",
      "Keyframes num:  2\n",
      "Keyframes num:  2\n",
      "Keyframes num:  4\n",
      "Keyframes num:  2\n",
      "Keyframes num:  2\n"
     ]
    }
   ],
   "source": [
    "trajs = env.get_demos(20)"
   ]
  },
  {
   "cell_type": "code",
   "execution_count": 2,
   "id": "150aa45d-1afe-4250-a369-c2b3bcc8f4d0",
   "metadata": {},
   "outputs": [],
   "source": [
    "import jax\n",
    "import jax.numpy as jnp\n",
    "jax.config.update('jax_platform_name', 'cpu')\n",
    "from flax import linen as nn\n",
    "import tensorflow_probability.substrates.jax  as tfp\n",
    "tfd = tfp.distributions"
   ]
  },
  {
   "cell_type": "code",
   "execution_count": 3,
   "id": "3e7b8a64-43b5-477c-8d27-31aaf1d726c7",
   "metadata": {},
   "outputs": [],
   "source": [
    "logist = jnp.zeros((8, 100))"
   ]
  }
 ],
 "metadata": {
  "kernelspec": {
   "display_name": "Python 3 (ipykernel)",
   "language": "python",
   "name": "python3"
  },
  "language_info": {
   "codemirror_mode": {
    "name": "ipython",
    "version": 3
   },
   "file_extension": ".py",
   "mimetype": "text/x-python",
   "name": "python",
   "nbconvert_exporter": "python",
   "pygments_lexer": "ipython3",
   "version": "3.10.12"
  }
 },
 "nbformat": 4,
 "nbformat_minor": 5
}
