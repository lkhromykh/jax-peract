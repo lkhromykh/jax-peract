{
 "cells": [
  {
   "cell_type": "code",
   "execution_count": 1,
   "id": "cad5b321-376a-40dc-ab5e-22e0a1405c6a",
   "metadata": {},
   "outputs": [],
   "source": [
    "%load_ext autoreload\n",
    "%autoreload 2"
   ]
  },
  {
   "cell_type": "code",
   "execution_count": 1,
   "id": "293a8ec6-4795-4791-96c8-c7bc77172e95",
   "metadata": {},
   "outputs": [
    {
     "name": "stdout",
     "output_type": "stream",
     "text": [
      "Jupyter environment detected. Enabling Open3D WebVisualizer.\n",
      "[Open3D INFO] WebRTC GUI backend enabled.\n",
      "[Open3D INFO] WebRTCWindowSystem: HTTP handshake server disabled.\n"
     ]
    }
   ],
   "source": [
    "import numpy as np\n",
    "import open3d as o3d\n",
    "from rlbench.action_modes.action_mode import MoveArmThenGripper\n",
    "from rlbench.action_modes.arm_action_modes import JointVelocity\n",
    "from rlbench.action_modes.gripper_action_modes import Discrete\n",
    "from rlbench.environment import Environment\n",
    "from rlbench.tasks import ReachTarget"
   ]
  },
  {
   "cell_type": "code",
   "execution_count": 2,
   "id": "5afb20e3-3525-40d9-b31f-a70dafcc890e",
   "metadata": {},
   "outputs": [],
   "source": [
    "action_mode = MoveArmThenGripper(\n",
    "  arm_action_mode=JointVelocity(),\n",
    "  gripper_action_mode=Discrete()\n",
    ")\n",
    "env = Environment(action_mode, headless=False)\n",
    "env.launch()\n",
    "\n",
    "task = env.get_task(ReachTarget)\n",
    "descriptions, obs = task.reset()\n",
    "obs, reward, terminate = task.step(np.random.normal(size=env.action_shape))"
   ]
  },
  {
   "cell_type": "code",
   "execution_count": 5,
   "id": "e6afffa1-402a-47ec-b561-1a2b1770969b",
   "metadata": {},
   "outputs": [
    {
     "data": {
      "text/plain": [
       "[-0.32499998807907104,\n",
       " 0.32499998807907104,\n",
       " -0.45500004291534424,\n",
       " 0.45500004291534424,\n",
       " -0.0,\n",
       " 0.0]"
      ]
     },
     "execution_count": 5,
     "metadata": {},
     "output_type": "execute_result"
    }
   ],
   "source": [
    "task._scene._workspace.get_bounding_box()"
   ]
  },
  {
   "cell_type": "code",
   "execution_count": 2,
   "id": "12989278-5efe-4362-9870-8f2b0d6bf981",
   "metadata": {},
   "outputs": [],
   "source": [
    "import sys\n",
    "sys.path.append('..')\n",
    "\n",
    "from src.rlbench.voxel_grid import VoxelGrid\n",
    "from src.rlbench.action_mode import ActionMode\n",
    "from src.rlbench.enviroment import RLBenchEnv"
   ]
  },
  {
   "cell_type": "code",
   "execution_count": 3,
   "id": "adc86f3f-c7a8-48e8-85f5-3ff0cdf8c56f",
   "metadata": {},
   "outputs": [],
   "source": [
    "lb = np.array([-0.3, -0.5, 0.6])\n",
    "ub = np.array([0.7, 0.5, 1.6])\n",
    "N = 10\n",
    "env = RLBenchEnv('ReachTarget', (lb, ub), N)\n",
    "ts = env.reset()"
   ]
  },
  {
   "cell_type": "code",
   "execution_count": 5,
   "id": "afeffbc9-6fa4-4dc0-8841-f3c82deadac3",
   "metadata": {},
   "outputs": [
    {
     "name": "stdout",
     "output_type": "stream",
     "text": [
      "> \u001b[0;32m/home/khromykhla/Documents/github/perciever/src/rlbench/action_mode.py\u001b[0m(34)\u001b[0;36maction\u001b[0;34m()\u001b[0m\n",
      "\u001b[0;32m     32 \u001b[0;31m        \u001b[0marm\u001b[0m \u001b[0;34m=\u001b[0m \u001b[0mnp\u001b[0m\u001b[0;34m.\u001b[0m\u001b[0mconcatenate\u001b[0m\u001b[0;34m(\u001b[0m\u001b[0;34m[\u001b[0m\u001b[0marm\u001b[0m\u001b[0;34m,\u001b[0m \u001b[0mDOWN_QUAT\u001b[0m\u001b[0;34m]\u001b[0m\u001b[0;34m,\u001b[0m \u001b[0;34m-\u001b[0m\u001b[0;36m1\u001b[0m\u001b[0;34m)\u001b[0m\u001b[0;34m\u001b[0m\u001b[0;34m\u001b[0m\u001b[0m\n",
      "\u001b[0m\u001b[0;32m     33 \u001b[0;31m        \u001b[0mself\u001b[0m\u001b[0;34m.\u001b[0m\u001b[0marm_action_mode\u001b[0m\u001b[0;34m.\u001b[0m\u001b[0maction\u001b[0m\u001b[0;34m(\u001b[0m\u001b[0mscene\u001b[0m\u001b[0;34m,\u001b[0m \u001b[0marm\u001b[0m\u001b[0;34m)\u001b[0m\u001b[0;34m\u001b[0m\u001b[0;34m\u001b[0m\u001b[0m\n",
      "\u001b[0m\u001b[0;32m---> 34 \u001b[0;31m        \u001b[0mself\u001b[0m\u001b[0;34m.\u001b[0m\u001b[0mgripper_action_mode\u001b[0m\u001b[0;34m.\u001b[0m\u001b[0maction\u001b[0m\u001b[0;34m(\u001b[0m\u001b[0mscene\u001b[0m\u001b[0;34m,\u001b[0m \u001b[0mgrip\u001b[0m\u001b[0;34m)\u001b[0m\u001b[0;34m\u001b[0m\u001b[0;34m\u001b[0m\u001b[0m\n",
      "\u001b[0m\u001b[0;32m     35 \u001b[0;31m\u001b[0;34m\u001b[0m\u001b[0m\n",
      "\u001b[0m\u001b[0;32m     36 \u001b[0;31m    \u001b[0;32mdef\u001b[0m \u001b[0maction_shape\u001b[0m\u001b[0;34m(\u001b[0m\u001b[0mself\u001b[0m\u001b[0;34m,\u001b[0m \u001b[0mscene\u001b[0m\u001b[0;34m:\u001b[0m \u001b[0mScene\u001b[0m\u001b[0;34m)\u001b[0m \u001b[0;34m->\u001b[0m \u001b[0mtuple\u001b[0m\u001b[0;34m[\u001b[0m\u001b[0mint\u001b[0m\u001b[0;34m,\u001b[0m \u001b[0;34m...\u001b[0m\u001b[0;34m]\u001b[0m\u001b[0;34m:\u001b[0m\u001b[0;34m\u001b[0m\u001b[0;34m\u001b[0m\u001b[0m\n",
      "\u001b[0m\n"
     ]
    },
    {
     "name": "stdin",
     "output_type": "stream",
     "text": [
      "ipdb>  c\n"
     ]
    },
    {
     "name": "stdout",
     "output_type": "stream",
     "text": [
      "Unexpected exception formatting exception. Falling back to standard exception\n"
     ]
    },
    {
     "name": "stderr",
     "output_type": "stream",
     "text": [
      "Traceback (most recent call last):\n",
      "  File \"/home/khromykhla/Apps/anaconda3/envs/perceiver/lib/python3.10/site-packages/IPython/core/interactiveshell.py\", line 3526, in run_code\n",
      "    exec(code_obj, self.user_global_ns, self.user_ns)\n",
      "  File \"/tmp/ipykernel_29400/1332536423.py\", line 1, in <module>\n",
      "    env.step(np.array([7,7,7]))\n",
      "  File \"/home/khromykhla/Documents/github/perciever/notebooks/../src/rlbench/enviroment.py\", line 39, in step\n",
      "    obs, reward, terminate = self.task.step(action)\n",
      "  File \"/home/khromykhla/Apps/anaconda3/envs/perceiver/lib/python3.10/site-packages/rlbench/task_environment.py\", line 99, in step\n",
      "    self._action_mode.action(self._scene, action)\n",
      "  File \"/home/khromykhla/Documents/github/perciever/notebooks/../src/rlbench/action_mode.py\", line 35, in action\n",
      "  File \"/home/khromykhla/Apps/anaconda3/envs/perceiver/lib/python3.10/site-packages/rlbench/action_modes/gripper_action_modes.py\", line 60, in action\n",
      "    assert_action_shape(action, self.action_shape(scene.robot))\n",
      "  File \"/home/khromykhla/Apps/anaconda3/envs/perceiver/lib/python3.10/site-packages/rlbench/action_modes/gripper_action_modes.py\", line 11, in assert_action_shape\n",
      "    raise InvalidActionError(\n",
      "rlbench.backend.exceptions.InvalidActionError: Expected the action shape to be: (1,), but was shape: (0,)\n",
      "\n",
      "During handling of the above exception, another exception occurred:\n",
      "\n",
      "Traceback (most recent call last):\n",
      "  File \"/home/khromykhla/Apps/anaconda3/envs/perceiver/lib/python3.10/site-packages/IPython/core/interactiveshell.py\", line 2120, in showtraceback\n",
      "    stb = self.InteractiveTB.structured_traceback(\n",
      "  File \"/home/khromykhla/Apps/anaconda3/envs/perceiver/lib/python3.10/site-packages/IPython/core/ultratb.py\", line 1435, in structured_traceback\n",
      "    return FormattedTB.structured_traceback(\n",
      "  File \"/home/khromykhla/Apps/anaconda3/envs/perceiver/lib/python3.10/site-packages/IPython/core/ultratb.py\", line 1326, in structured_traceback\n",
      "    return VerboseTB.structured_traceback(\n",
      "  File \"/home/khromykhla/Apps/anaconda3/envs/perceiver/lib/python3.10/site-packages/IPython/core/ultratb.py\", line 1173, in structured_traceback\n",
      "    formatted_exception = self.format_exception_as_a_whole(etype, evalue, etb, number_of_lines_of_context,\n",
      "  File \"/home/khromykhla/Apps/anaconda3/envs/perceiver/lib/python3.10/site-packages/IPython/core/ultratb.py\", line 1088, in format_exception_as_a_whole\n",
      "    frames.append(self.format_record(record))\n",
      "  File \"/home/khromykhla/Apps/anaconda3/envs/perceiver/lib/python3.10/site-packages/IPython/core/ultratb.py\", line 970, in format_record\n",
      "    frame_info.lines, Colors, self.has_colors, lvals\n",
      "  File \"/home/khromykhla/Apps/anaconda3/envs/perceiver/lib/python3.10/site-packages/IPython/core/ultratb.py\", line 792, in lines\n",
      "    return self._sd.lines\n",
      "  File \"/home/khromykhla/Apps/anaconda3/envs/perceiver/lib/python3.10/site-packages/stack_data/utils.py\", line 144, in cached_property_wrapper\n",
      "    value = obj.__dict__[self.func.__name__] = self.func(obj)\n",
      "  File \"/home/khromykhla/Apps/anaconda3/envs/perceiver/lib/python3.10/site-packages/stack_data/core.py\", line 734, in lines\n",
      "    pieces = self.included_pieces\n",
      "  File \"/home/khromykhla/Apps/anaconda3/envs/perceiver/lib/python3.10/site-packages/stack_data/utils.py\", line 144, in cached_property_wrapper\n",
      "    value = obj.__dict__[self.func.__name__] = self.func(obj)\n",
      "  File \"/home/khromykhla/Apps/anaconda3/envs/perceiver/lib/python3.10/site-packages/stack_data/core.py\", line 681, in included_pieces\n",
      "    pos = scope_pieces.index(self.executing_piece)\n",
      "  File \"/home/khromykhla/Apps/anaconda3/envs/perceiver/lib/python3.10/site-packages/stack_data/utils.py\", line 144, in cached_property_wrapper\n",
      "    value = obj.__dict__[self.func.__name__] = self.func(obj)\n",
      "  File \"/home/khromykhla/Apps/anaconda3/envs/perceiver/lib/python3.10/site-packages/stack_data/core.py\", line 660, in executing_piece\n",
      "    return only(\n",
      "  File \"/home/khromykhla/Apps/anaconda3/envs/perceiver/lib/python3.10/site-packages/executing/executing.py\", line 190, in only\n",
      "    raise NotOneValueFound('Expected one value, found 0')\n",
      "executing.executing.NotOneValueFound: Expected one value, found 0\n"
     ]
    }
   ],
   "source": [
    "env.step(np.array([7,7,7]))"
   ]
  },
  {
   "cell_type": "code",
   "execution_count": 5,
   "id": "84dd4cfd-8bbc-4d1d-99e4-e8b21f348b83",
   "metadata": {},
   "outputs": [],
   "source": [
    "scene = env.task._scene"
   ]
  },
  {
   "cell_type": "code",
   "execution_count": 6,
   "id": "f8448ffe-330c-45ac-9fe7-2cdd785aeaba",
   "metadata": {},
   "outputs": [
    {
     "data": {
      "text/plain": [
       "['__class__',\n",
       " '__delattr__',\n",
       " '__dict__',\n",
       " '__dir__',\n",
       " '__doc__',\n",
       " '__eq__',\n",
       " '__format__',\n",
       " '__ge__',\n",
       " '__getattribute__',\n",
       " '__gt__',\n",
       " '__hash__',\n",
       " '__init__',\n",
       " '__init_subclass__',\n",
       " '__le__',\n",
       " '__lt__',\n",
       " '__module__',\n",
       " '__ne__',\n",
       " '__new__',\n",
       " '__reduce__',\n",
       " '__reduce_ex__',\n",
       " '__repr__',\n",
       " '__setattr__',\n",
       " '__sizeof__',\n",
       " '__str__',\n",
       " '__subclasshook__',\n",
       " '__weakref__',\n",
       " '_cam_front',\n",
       " '_cam_front_mask',\n",
       " '_cam_over_shoulder_left',\n",
       " '_cam_over_shoulder_left_mask',\n",
       " '_cam_over_shoulder_right',\n",
       " '_cam_over_shoulder_right_mask',\n",
       " '_cam_overhead',\n",
       " '_cam_overhead_mask',\n",
       " '_cam_wrist',\n",
       " '_cam_wrist_mask',\n",
       " '_demo_record_step',\n",
       " '_get_misc',\n",
       " '_has_init_episode',\n",
       " '_has_init_task',\n",
       " '_initial_robot_state',\n",
       " '_initial_task_pose',\n",
       " '_initial_task_state',\n",
       " '_obs_config',\n",
       " '_place_task',\n",
       " '_robot_shapes',\n",
       " '_set_camera_properties',\n",
       " '_start_arm_joint_pos',\n",
       " '_starting_gripper_joint_pos',\n",
       " '_step_callback',\n",
       " '_variation_index',\n",
       " '_workspace',\n",
       " '_workspace_boundary',\n",
       " '_workspace_maxx',\n",
       " '_workspace_maxy',\n",
       " '_workspace_maxz',\n",
       " '_workspace_minx',\n",
       " '_workspace_miny',\n",
       " '_workspace_minz',\n",
       " 'check_target_in_workspace',\n",
       " 'get_demo',\n",
       " 'get_observation',\n",
       " 'get_observation_config',\n",
       " 'init_episode',\n",
       " 'init_task',\n",
       " 'load',\n",
       " 'pyrep',\n",
       " 'register_step_callback',\n",
       " 'reset',\n",
       " 'robot',\n",
       " 'robot_setup',\n",
       " 'step',\n",
       " 'target_workspace_check',\n",
       " 'task',\n",
       " 'unload']"
      ]
     },
     "execution_count": 6,
     "metadata": {},
     "output_type": "execute_result"
    }
   ],
   "source": [
    "dir(scene)"
   ]
  },
  {
   "cell_type": "code",
   "execution_count": 13,
   "id": "9334aece-f460-42ea-be20-ed1edf792eb7",
   "metadata": {},
   "outputs": [],
   "source": [
    "action = np.array([5,5,5,5])"
   ]
  },
  {
   "cell_type": "code",
   "execution_count": null,
   "id": "40a235b2-6e8b-4b96-986a-a7edc265c38d",
   "metadata": {},
   "outputs": [],
   "source": []
  },
  {
   "cell_type": "code",
   "execution_count": 14,
   "id": "5b6ec7df-de8d-41a1-afda-0e7151ec3cef",
   "metadata": {},
   "outputs": [
    {
     "name": "stdout",
     "output_type": "stream",
     "text": [
      "> \u001b[0;32m/home/khromykhla/Documents/github/perciever/src/rlbench/action_mode.py\u001b[0m(30)\u001b[0;36maction\u001b[0;34m()\u001b[0m\n",
      "\u001b[0;32m     28 \u001b[0;31m    \u001b[0;32mdef\u001b[0m \u001b[0maction\u001b[0m\u001b[0;34m(\u001b[0m\u001b[0mself\u001b[0m\u001b[0;34m,\u001b[0m \u001b[0mscene\u001b[0m\u001b[0;34m:\u001b[0m \u001b[0mScene\u001b[0m\u001b[0;34m,\u001b[0m \u001b[0maction\u001b[0m\u001b[0;34m:\u001b[0m \u001b[0mArray\u001b[0m\u001b[0;34m)\u001b[0m \u001b[0;34m->\u001b[0m \u001b[0;32mNone\u001b[0m\u001b[0;34m:\u001b[0m\u001b[0;34m\u001b[0m\u001b[0;34m\u001b[0m\u001b[0m\n",
      "\u001b[0m\u001b[0;32m     29 \u001b[0;31m        \u001b[0;32mimport\u001b[0m \u001b[0mpdb\u001b[0m\u001b[0;34m;\u001b[0m \u001b[0mpdb\u001b[0m\u001b[0;34m.\u001b[0m\u001b[0mset_trace\u001b[0m\u001b[0;34m(\u001b[0m\u001b[0;34m)\u001b[0m\u001b[0;34m\u001b[0m\u001b[0;34m\u001b[0m\u001b[0m\n",
      "\u001b[0m\u001b[0;32m---> 30 \u001b[0;31m        \u001b[0maction\u001b[0m \u001b[0;34m=\u001b[0m \u001b[0mnp\u001b[0m\u001b[0;34m.\u001b[0m\u001b[0mtake_along_axis\u001b[0m\u001b[0;34m(\u001b[0m\u001b[0mself\u001b[0m\u001b[0;34m.\u001b[0m\u001b[0m_actgrid\u001b[0m\u001b[0;34m,\u001b[0m \u001b[0maction\u001b[0m\u001b[0;34m[\u001b[0m\u001b[0mnp\u001b[0m\u001b[0;34m.\u001b[0m\u001b[0mnewaxis\u001b[0m\u001b[0;34m]\u001b[0m\u001b[0;34m,\u001b[0m \u001b[0;36m0\u001b[0m\u001b[0;34m)\u001b[0m\u001b[0;34m\u001b[0m\u001b[0;34m\u001b[0m\u001b[0m\n",
      "\u001b[0m\u001b[0;32m     31 \u001b[0;31m        \u001b[0marm\u001b[0m\u001b[0;34m,\u001b[0m \u001b[0mgrip\u001b[0m \u001b[0;34m=\u001b[0m \u001b[0mnp\u001b[0m\u001b[0;34m.\u001b[0m\u001b[0msplit\u001b[0m\u001b[0;34m(\u001b[0m\u001b[0maction\u001b[0m\u001b[0;34m.\u001b[0m\u001b[0msqueeze\u001b[0m\u001b[0;34m(\u001b[0m\u001b[0;36m0\u001b[0m\u001b[0;34m)\u001b[0m\u001b[0;34m,\u001b[0m \u001b[0;34m[\u001b[0m\u001b[0;36m3\u001b[0m\u001b[0;34m]\u001b[0m\u001b[0;34m)\u001b[0m\u001b[0;34m\u001b[0m\u001b[0;34m\u001b[0m\u001b[0m\n",
      "\u001b[0m\u001b[0;32m     32 \u001b[0;31m        \u001b[0marm\u001b[0m \u001b[0;34m=\u001b[0m \u001b[0mnp\u001b[0m\u001b[0;34m.\u001b[0m\u001b[0mconcatenate\u001b[0m\u001b[0;34m(\u001b[0m\u001b[0;34m[\u001b[0m\u001b[0marm\u001b[0m\u001b[0;34m,\u001b[0m \u001b[0mDOWN_QUAT\u001b[0m\u001b[0;34m]\u001b[0m\u001b[0;34m,\u001b[0m \u001b[0;34m-\u001b[0m\u001b[0;36m1\u001b[0m\u001b[0;34m)\u001b[0m\u001b[0;34m\u001b[0m\u001b[0;34m\u001b[0m\u001b[0m\n",
      "\u001b[0m\n"
     ]
    },
    {
     "name": "stdin",
     "output_type": "stream",
     "text": [
      "ipdb>  action\n"
     ]
    },
    {
     "name": "stdout",
     "output_type": "stream",
     "text": [
      "array([5, 5, 5, 5])\n"
     ]
    },
    {
     "name": "stdin",
     "output_type": "stream",
     "text": [
      "ipdb>  n\n"
     ]
    },
    {
     "name": "stdout",
     "output_type": "stream",
     "text": [
      "> \u001b[0;32m/home/khromykhla/Documents/github/perciever/src/rlbench/action_mode.py\u001b[0m(31)\u001b[0;36maction\u001b[0;34m()\u001b[0m\n",
      "\u001b[0;32m     29 \u001b[0;31m        \u001b[0;32mimport\u001b[0m \u001b[0mpdb\u001b[0m\u001b[0;34m;\u001b[0m \u001b[0mpdb\u001b[0m\u001b[0;34m.\u001b[0m\u001b[0mset_trace\u001b[0m\u001b[0;34m(\u001b[0m\u001b[0;34m)\u001b[0m\u001b[0;34m\u001b[0m\u001b[0;34m\u001b[0m\u001b[0m\n",
      "\u001b[0m\u001b[0;32m     30 \u001b[0;31m        \u001b[0maction\u001b[0m \u001b[0;34m=\u001b[0m \u001b[0mnp\u001b[0m\u001b[0;34m.\u001b[0m\u001b[0mtake_along_axis\u001b[0m\u001b[0;34m(\u001b[0m\u001b[0mself\u001b[0m\u001b[0;34m.\u001b[0m\u001b[0m_actgrid\u001b[0m\u001b[0;34m,\u001b[0m \u001b[0maction\u001b[0m\u001b[0;34m[\u001b[0m\u001b[0mnp\u001b[0m\u001b[0;34m.\u001b[0m\u001b[0mnewaxis\u001b[0m\u001b[0;34m]\u001b[0m\u001b[0;34m,\u001b[0m \u001b[0;36m0\u001b[0m\u001b[0;34m)\u001b[0m\u001b[0;34m\u001b[0m\u001b[0;34m\u001b[0m\u001b[0m\n",
      "\u001b[0m\u001b[0;32m---> 31 \u001b[0;31m        \u001b[0marm\u001b[0m\u001b[0;34m,\u001b[0m \u001b[0mgrip\u001b[0m \u001b[0;34m=\u001b[0m \u001b[0mnp\u001b[0m\u001b[0;34m.\u001b[0m\u001b[0msplit\u001b[0m\u001b[0;34m(\u001b[0m\u001b[0maction\u001b[0m\u001b[0;34m.\u001b[0m\u001b[0msqueeze\u001b[0m\u001b[0;34m(\u001b[0m\u001b[0;36m0\u001b[0m\u001b[0;34m)\u001b[0m\u001b[0;34m,\u001b[0m \u001b[0;34m[\u001b[0m\u001b[0;36m3\u001b[0m\u001b[0;34m]\u001b[0m\u001b[0;34m)\u001b[0m\u001b[0;34m\u001b[0m\u001b[0;34m\u001b[0m\u001b[0m\n",
      "\u001b[0m\u001b[0;32m     32 \u001b[0;31m        \u001b[0marm\u001b[0m \u001b[0;34m=\u001b[0m \u001b[0mnp\u001b[0m\u001b[0;34m.\u001b[0m\u001b[0mconcatenate\u001b[0m\u001b[0;34m(\u001b[0m\u001b[0;34m[\u001b[0m\u001b[0marm\u001b[0m\u001b[0;34m,\u001b[0m \u001b[0mDOWN_QUAT\u001b[0m\u001b[0;34m]\u001b[0m\u001b[0;34m,\u001b[0m \u001b[0;34m-\u001b[0m\u001b[0;36m1\u001b[0m\u001b[0;34m)\u001b[0m\u001b[0;34m\u001b[0m\u001b[0;34m\u001b[0m\u001b[0m\n",
      "\u001b[0m\u001b[0;32m     33 \u001b[0;31m        \u001b[0mself\u001b[0m\u001b[0;34m.\u001b[0m\u001b[0marm_action_mode\u001b[0m\u001b[0;34m.\u001b[0m\u001b[0maction\u001b[0m\u001b[0;34m(\u001b[0m\u001b[0mscene\u001b[0m\u001b[0;34m,\u001b[0m \u001b[0marm\u001b[0m\u001b[0;34m)\u001b[0m\u001b[0;34m\u001b[0m\u001b[0;34m\u001b[0m\u001b[0m\n",
      "\u001b[0m\n"
     ]
    },
    {
     "name": "stdin",
     "output_type": "stream",
     "text": [
      "ipdb>  action\n"
     ]
    },
    {
     "name": "stdout",
     "output_type": "stream",
     "text": [
      "array([[0.02222222, 0.02222222, 0.02222222, 0.02222222]])\n"
     ]
    },
    {
     "name": "stdin",
     "output_type": "stream",
     "text": [
      "ipdb>  action /= 100\n",
      "ipdb>  action\n"
     ]
    },
    {
     "name": "stdout",
     "output_type": "stream",
     "text": [
      "array([[0.00022222, 0.00022222, 0.00022222, 0.00022222]])\n"
     ]
    },
    {
     "name": "stdin",
     "output_type": "stream",
     "text": [
      "ipdb>  n\n"
     ]
    },
    {
     "name": "stdout",
     "output_type": "stream",
     "text": [
      "> \u001b[0;32m/home/khromykhla/Documents/github/perciever/src/rlbench/action_mode.py\u001b[0m(32)\u001b[0;36maction\u001b[0;34m()\u001b[0m\n",
      "\u001b[0;32m     30 \u001b[0;31m        \u001b[0maction\u001b[0m \u001b[0;34m=\u001b[0m \u001b[0mnp\u001b[0m\u001b[0;34m.\u001b[0m\u001b[0mtake_along_axis\u001b[0m\u001b[0;34m(\u001b[0m\u001b[0mself\u001b[0m\u001b[0;34m.\u001b[0m\u001b[0m_actgrid\u001b[0m\u001b[0;34m,\u001b[0m \u001b[0maction\u001b[0m\u001b[0;34m[\u001b[0m\u001b[0mnp\u001b[0m\u001b[0;34m.\u001b[0m\u001b[0mnewaxis\u001b[0m\u001b[0;34m]\u001b[0m\u001b[0;34m,\u001b[0m \u001b[0;36m0\u001b[0m\u001b[0;34m)\u001b[0m\u001b[0;34m\u001b[0m\u001b[0;34m\u001b[0m\u001b[0m\n",
      "\u001b[0m\u001b[0;32m     31 \u001b[0;31m        \u001b[0marm\u001b[0m\u001b[0;34m,\u001b[0m \u001b[0mgrip\u001b[0m \u001b[0;34m=\u001b[0m \u001b[0mnp\u001b[0m\u001b[0;34m.\u001b[0m\u001b[0msplit\u001b[0m\u001b[0;34m(\u001b[0m\u001b[0maction\u001b[0m\u001b[0;34m.\u001b[0m\u001b[0msqueeze\u001b[0m\u001b[0;34m(\u001b[0m\u001b[0;36m0\u001b[0m\u001b[0;34m)\u001b[0m\u001b[0;34m,\u001b[0m \u001b[0;34m[\u001b[0m\u001b[0;36m3\u001b[0m\u001b[0;34m]\u001b[0m\u001b[0;34m)\u001b[0m\u001b[0;34m\u001b[0m\u001b[0;34m\u001b[0m\u001b[0m\n",
      "\u001b[0m\u001b[0;32m---> 32 \u001b[0;31m        \u001b[0marm\u001b[0m \u001b[0;34m=\u001b[0m \u001b[0mnp\u001b[0m\u001b[0;34m.\u001b[0m\u001b[0mconcatenate\u001b[0m\u001b[0;34m(\u001b[0m\u001b[0;34m[\u001b[0m\u001b[0marm\u001b[0m\u001b[0;34m,\u001b[0m \u001b[0mDOWN_QUAT\u001b[0m\u001b[0;34m]\u001b[0m\u001b[0;34m,\u001b[0m \u001b[0;34m-\u001b[0m\u001b[0;36m1\u001b[0m\u001b[0;34m)\u001b[0m\u001b[0;34m\u001b[0m\u001b[0;34m\u001b[0m\u001b[0m\n",
      "\u001b[0m\u001b[0;32m     33 \u001b[0;31m        \u001b[0mself\u001b[0m\u001b[0;34m.\u001b[0m\u001b[0marm_action_mode\u001b[0m\u001b[0;34m.\u001b[0m\u001b[0maction\u001b[0m\u001b[0;34m(\u001b[0m\u001b[0mscene\u001b[0m\u001b[0;34m,\u001b[0m \u001b[0marm\u001b[0m\u001b[0;34m)\u001b[0m\u001b[0;34m\u001b[0m\u001b[0;34m\u001b[0m\u001b[0m\n",
      "\u001b[0m\u001b[0;32m     34 \u001b[0;31m        \u001b[0mself\u001b[0m\u001b[0;34m.\u001b[0m\u001b[0mgripper_action_mode\u001b[0m\u001b[0;34m.\u001b[0m\u001b[0maction\u001b[0m\u001b[0;34m(\u001b[0m\u001b[0mscene\u001b[0m\u001b[0;34m,\u001b[0m \u001b[0mgrip\u001b[0m\u001b[0;34m)\u001b[0m\u001b[0;34m\u001b[0m\u001b[0;34m\u001b[0m\u001b[0m\n",
      "\u001b[0m\n"
     ]
    },
    {
     "name": "stdin",
     "output_type": "stream",
     "text": [
      "ipdb>  n\n"
     ]
    },
    {
     "name": "stdout",
     "output_type": "stream",
     "text": [
      "> \u001b[0;32m/home/khromykhla/Documents/github/perciever/src/rlbench/action_mode.py\u001b[0m(33)\u001b[0;36maction\u001b[0;34m()\u001b[0m\n",
      "\u001b[0;32m     31 \u001b[0;31m        \u001b[0marm\u001b[0m\u001b[0;34m,\u001b[0m \u001b[0mgrip\u001b[0m \u001b[0;34m=\u001b[0m \u001b[0mnp\u001b[0m\u001b[0;34m.\u001b[0m\u001b[0msplit\u001b[0m\u001b[0;34m(\u001b[0m\u001b[0maction\u001b[0m\u001b[0;34m.\u001b[0m\u001b[0msqueeze\u001b[0m\u001b[0;34m(\u001b[0m\u001b[0;36m0\u001b[0m\u001b[0;34m)\u001b[0m\u001b[0;34m,\u001b[0m \u001b[0;34m[\u001b[0m\u001b[0;36m3\u001b[0m\u001b[0;34m]\u001b[0m\u001b[0;34m)\u001b[0m\u001b[0;34m\u001b[0m\u001b[0;34m\u001b[0m\u001b[0m\n",
      "\u001b[0m\u001b[0;32m     32 \u001b[0;31m        \u001b[0marm\u001b[0m \u001b[0;34m=\u001b[0m \u001b[0mnp\u001b[0m\u001b[0;34m.\u001b[0m\u001b[0mconcatenate\u001b[0m\u001b[0;34m(\u001b[0m\u001b[0;34m[\u001b[0m\u001b[0marm\u001b[0m\u001b[0;34m,\u001b[0m \u001b[0mDOWN_QUAT\u001b[0m\u001b[0;34m]\u001b[0m\u001b[0;34m,\u001b[0m \u001b[0;34m-\u001b[0m\u001b[0;36m1\u001b[0m\u001b[0;34m)\u001b[0m\u001b[0;34m\u001b[0m\u001b[0;34m\u001b[0m\u001b[0m\n",
      "\u001b[0m\u001b[0;32m---> 33 \u001b[0;31m        \u001b[0mself\u001b[0m\u001b[0;34m.\u001b[0m\u001b[0marm_action_mode\u001b[0m\u001b[0;34m.\u001b[0m\u001b[0maction\u001b[0m\u001b[0;34m(\u001b[0m\u001b[0mscene\u001b[0m\u001b[0;34m,\u001b[0m \u001b[0marm\u001b[0m\u001b[0;34m)\u001b[0m\u001b[0;34m\u001b[0m\u001b[0;34m\u001b[0m\u001b[0m\n",
      "\u001b[0m\u001b[0;32m     34 \u001b[0;31m        \u001b[0mself\u001b[0m\u001b[0;34m.\u001b[0m\u001b[0mgripper_action_mode\u001b[0m\u001b[0;34m.\u001b[0m\u001b[0maction\u001b[0m\u001b[0;34m(\u001b[0m\u001b[0mscene\u001b[0m\u001b[0;34m,\u001b[0m \u001b[0mgrip\u001b[0m\u001b[0;34m)\u001b[0m\u001b[0;34m\u001b[0m\u001b[0;34m\u001b[0m\u001b[0m\n",
      "\u001b[0m\u001b[0;32m     35 \u001b[0;31m\u001b[0;34m\u001b[0m\u001b[0m\n",
      "\u001b[0m\n"
     ]
    },
    {
     "name": "stdin",
     "output_type": "stream",
     "text": [
      "ipdb>  arm\n"
     ]
    },
    {
     "name": "stdout",
     "output_type": "stream",
     "text": [
      "array([2.22222222e-04, 2.22222222e-04, 2.22222222e-04, 0.00000000e+00,\n",
      "       7.07106780e-01, 7.07106780e-01, 0.00000000e+00])\n"
     ]
    },
    {
     "name": "stdin",
     "output_type": "stream",
     "text": [
      "ipdb>  n\n"
     ]
    },
    {
     "name": "stdout",
     "output_type": "stream",
     "text": [
      "rlbench.backend.exceptions.InvalidActionError: A path could not be found because the target is outside of workspace.\n",
      "> \u001b[0;32m/home/khromykhla/Documents/github/perciever/src/rlbench/action_mode.py\u001b[0m(33)\u001b[0;36maction\u001b[0;34m()\u001b[0m\n",
      "\u001b[0;32m     31 \u001b[0;31m        \u001b[0marm\u001b[0m\u001b[0;34m,\u001b[0m \u001b[0mgrip\u001b[0m \u001b[0;34m=\u001b[0m \u001b[0mnp\u001b[0m\u001b[0;34m.\u001b[0m\u001b[0msplit\u001b[0m\u001b[0;34m(\u001b[0m\u001b[0maction\u001b[0m\u001b[0;34m.\u001b[0m\u001b[0msqueeze\u001b[0m\u001b[0;34m(\u001b[0m\u001b[0;36m0\u001b[0m\u001b[0;34m)\u001b[0m\u001b[0;34m,\u001b[0m \u001b[0;34m[\u001b[0m\u001b[0;36m3\u001b[0m\u001b[0;34m]\u001b[0m\u001b[0;34m)\u001b[0m\u001b[0;34m\u001b[0m\u001b[0;34m\u001b[0m\u001b[0m\n",
      "\u001b[0m\u001b[0;32m     32 \u001b[0;31m        \u001b[0marm\u001b[0m \u001b[0;34m=\u001b[0m \u001b[0mnp\u001b[0m\u001b[0;34m.\u001b[0m\u001b[0mconcatenate\u001b[0m\u001b[0;34m(\u001b[0m\u001b[0;34m[\u001b[0m\u001b[0marm\u001b[0m\u001b[0;34m,\u001b[0m \u001b[0mDOWN_QUAT\u001b[0m\u001b[0;34m]\u001b[0m\u001b[0;34m,\u001b[0m \u001b[0;34m-\u001b[0m\u001b[0;36m1\u001b[0m\u001b[0;34m)\u001b[0m\u001b[0;34m\u001b[0m\u001b[0;34m\u001b[0m\u001b[0m\n",
      "\u001b[0m\u001b[0;32m---> 33 \u001b[0;31m        \u001b[0mself\u001b[0m\u001b[0;34m.\u001b[0m\u001b[0marm_action_mode\u001b[0m\u001b[0;34m.\u001b[0m\u001b[0maction\u001b[0m\u001b[0;34m(\u001b[0m\u001b[0mscene\u001b[0m\u001b[0;34m,\u001b[0m \u001b[0marm\u001b[0m\u001b[0;34m)\u001b[0m\u001b[0;34m\u001b[0m\u001b[0;34m\u001b[0m\u001b[0m\n",
      "\u001b[0m\u001b[0;32m     34 \u001b[0;31m        \u001b[0mself\u001b[0m\u001b[0;34m.\u001b[0m\u001b[0mgripper_action_mode\u001b[0m\u001b[0;34m.\u001b[0m\u001b[0maction\u001b[0m\u001b[0;34m(\u001b[0m\u001b[0mscene\u001b[0m\u001b[0;34m,\u001b[0m \u001b[0mgrip\u001b[0m\u001b[0;34m)\u001b[0m\u001b[0;34m\u001b[0m\u001b[0;34m\u001b[0m\u001b[0m\n",
      "\u001b[0m\u001b[0;32m     35 \u001b[0;31m\u001b[0;34m\u001b[0m\u001b[0m\n",
      "\u001b[0m\n"
     ]
    },
    {
     "name": "stdin",
     "output_type": "stream",
     "text": [
      "ipdb>  obs\n"
     ]
    },
    {
     "name": "stdout",
     "output_type": "stream",
     "text": [
      "*** NameError: name 'obs' is not defined\n"
     ]
    },
    {
     "name": "stdin",
     "output_type": "stream",
     "text": [
      "ipdb>  qw\n"
     ]
    },
    {
     "name": "stdout",
     "output_type": "stream",
     "text": [
      "*** NameError: name 'qw' is not defined\n"
     ]
    },
    {
     "name": "stdin",
     "output_type": "stream",
     "text": [
      "ipdb>  c\n"
     ]
    },
    {
     "ename": "InvalidActionError",
     "evalue": "A path could not be found because the target is outside of workspace.",
     "output_type": "error",
     "traceback": [
      "\u001b[0;31m---------------------------------------------------------------------------\u001b[0m",
      "\u001b[0;31mInvalidActionError\u001b[0m                        Traceback (most recent call last)",
      "Cell \u001b[0;32mIn[14], line 1\u001b[0m\n\u001b[0;32m----> 1\u001b[0m ts  \u001b[38;5;241m=\u001b[39m \u001b[43menv\u001b[49m\u001b[38;5;241;43m.\u001b[39;49m\u001b[43mstep\u001b[49m\u001b[43m(\u001b[49m\u001b[43maction\u001b[49m\u001b[43m)\u001b[49m\n",
      "File \u001b[0;32m~/Documents/github/perciever/notebooks/../src/rlbench/enviroment.py:40\u001b[0m, in \u001b[0;36mRLBenchEnv.step\u001b[0;34m(self, action)\u001b[0m\n\u001b[1;32m     39\u001b[0m \u001b[38;5;28;01mdef\u001b[39;00m \u001b[38;5;21mstep\u001b[39m(\u001b[38;5;28mself\u001b[39m, action: Array) \u001b[38;5;241m-\u001b[39m\u001b[38;5;241m>\u001b[39m dm_env\u001b[38;5;241m.\u001b[39mTimeStep:\n\u001b[0;32m---> 40\u001b[0m     obs, reward, terminate \u001b[38;5;241m=\u001b[39m \u001b[38;5;28;43mself\u001b[39;49m\u001b[38;5;241;43m.\u001b[39;49m\u001b[43mtask\u001b[49m\u001b[38;5;241;43m.\u001b[39;49m\u001b[43mstep\u001b[49m\u001b[43m(\u001b[49m\u001b[43maction\u001b[49m\u001b[43m)\u001b[49m\n\u001b[1;32m     41\u001b[0m     obs \u001b[38;5;241m=\u001b[39m \u001b[38;5;28mself\u001b[39m\u001b[38;5;241m.\u001b[39m_transform_observation(obs)\n\u001b[1;32m     42\u001b[0m     \u001b[38;5;28;01mif\u001b[39;00m terminate:\n",
      "File \u001b[0;32m~/Apps/anaconda3/envs/perceiver/lib/python3.10/site-packages/rlbench/task_environment.py:99\u001b[0m, in \u001b[0;36mTaskEnvironment.step\u001b[0;34m(self, action)\u001b[0m\n\u001b[1;32m     96\u001b[0m \u001b[38;5;28;01mif\u001b[39;00m \u001b[38;5;129;01mnot\u001b[39;00m \u001b[38;5;28mself\u001b[39m\u001b[38;5;241m.\u001b[39m_reset_called:\n\u001b[1;32m     97\u001b[0m     \u001b[38;5;28;01mraise\u001b[39;00m \u001b[38;5;167;01mRuntimeError\u001b[39;00m(\n\u001b[1;32m     98\u001b[0m         \u001b[38;5;124m\"\u001b[39m\u001b[38;5;124mCall \u001b[39m\u001b[38;5;124m'\u001b[39m\u001b[38;5;124mreset\u001b[39m\u001b[38;5;124m'\u001b[39m\u001b[38;5;124m before calling \u001b[39m\u001b[38;5;124m'\u001b[39m\u001b[38;5;124mstep\u001b[39m\u001b[38;5;124m'\u001b[39m\u001b[38;5;124m on a task.\u001b[39m\u001b[38;5;124m\"\u001b[39m)\n\u001b[0;32m---> 99\u001b[0m \u001b[38;5;28;43mself\u001b[39;49m\u001b[38;5;241;43m.\u001b[39;49m\u001b[43m_action_mode\u001b[49m\u001b[38;5;241;43m.\u001b[39;49m\u001b[43maction\u001b[49m\u001b[43m(\u001b[49m\u001b[38;5;28;43mself\u001b[39;49m\u001b[38;5;241;43m.\u001b[39;49m\u001b[43m_scene\u001b[49m\u001b[43m,\u001b[49m\u001b[43m \u001b[49m\u001b[43maction\u001b[49m\u001b[43m)\u001b[49m\n\u001b[1;32m    100\u001b[0m success, terminate \u001b[38;5;241m=\u001b[39m \u001b[38;5;28mself\u001b[39m\u001b[38;5;241m.\u001b[39m_task\u001b[38;5;241m.\u001b[39msuccess()\n\u001b[1;32m    101\u001b[0m reward \u001b[38;5;241m=\u001b[39m \u001b[38;5;28mfloat\u001b[39m(success)\n",
      "File \u001b[0;32m~/Documents/github/perciever/notebooks/../src/rlbench/action_mode.py:33\u001b[0m, in \u001b[0;36mActionMode.action\u001b[0;34m(self, scene, action)\u001b[0m\n\u001b[1;32m     31\u001b[0m arm, grip \u001b[38;5;241m=\u001b[39m np\u001b[38;5;241m.\u001b[39msplit(action\u001b[38;5;241m.\u001b[39msqueeze(\u001b[38;5;241m0\u001b[39m), [\u001b[38;5;241m3\u001b[39m])\n\u001b[1;32m     32\u001b[0m arm \u001b[38;5;241m=\u001b[39m np\u001b[38;5;241m.\u001b[39mconcatenate([arm, DOWN_QUAT], \u001b[38;5;241m-\u001b[39m\u001b[38;5;241m1\u001b[39m)\n\u001b[0;32m---> 33\u001b[0m \u001b[38;5;28;43mself\u001b[39;49m\u001b[38;5;241;43m.\u001b[39;49m\u001b[43marm_action_mode\u001b[49m\u001b[38;5;241;43m.\u001b[39;49m\u001b[43maction\u001b[49m\u001b[43m(\u001b[49m\u001b[43mscene\u001b[49m\u001b[43m,\u001b[49m\u001b[43m \u001b[49m\u001b[43marm\u001b[49m\u001b[43m)\u001b[49m\n\u001b[1;32m     34\u001b[0m \u001b[38;5;28mself\u001b[39m\u001b[38;5;241m.\u001b[39mgripper_action_mode\u001b[38;5;241m.\u001b[39maction(scene, grip)\n",
      "File \u001b[0;32m~/Apps/anaconda3/envs/perceiver/lib/python3.10/site-packages/rlbench/action_modes/arm_action_modes.py:226\u001b[0m, in \u001b[0;36mEndEffectorPoseViaPlanning.action\u001b[0;34m(self, scene, action)\u001b[0m\n\u001b[1;32m    224\u001b[0m     action \u001b[38;5;241m=\u001b[39m calculate_delta_pose(scene\u001b[38;5;241m.\u001b[39mrobot, action)\n\u001b[1;32m    225\u001b[0m relative_to \u001b[38;5;241m=\u001b[39m \u001b[38;5;28;01mNone\u001b[39;00m \u001b[38;5;28;01mif\u001b[39;00m \u001b[38;5;28mself\u001b[39m\u001b[38;5;241m.\u001b[39m_frame \u001b[38;5;241m==\u001b[39m \u001b[38;5;124m'\u001b[39m\u001b[38;5;124mworld\u001b[39m\u001b[38;5;124m'\u001b[39m \u001b[38;5;28;01melse\u001b[39;00m scene\u001b[38;5;241m.\u001b[39mrobot\u001b[38;5;241m.\u001b[39marm\u001b[38;5;241m.\u001b[39mget_tip()\n\u001b[0;32m--> 226\u001b[0m \u001b[38;5;28;43mself\u001b[39;49m\u001b[38;5;241;43m.\u001b[39;49m\u001b[43m_quick_boundary_check\u001b[49m\u001b[43m(\u001b[49m\u001b[43mscene\u001b[49m\u001b[43m,\u001b[49m\u001b[43m \u001b[49m\u001b[43maction\u001b[49m\u001b[43m)\u001b[49m\n\u001b[1;32m    228\u001b[0m colliding_shapes \u001b[38;5;241m=\u001b[39m []\n\u001b[1;32m    229\u001b[0m \u001b[38;5;28;01mif\u001b[39;00m \u001b[38;5;28mself\u001b[39m\u001b[38;5;241m.\u001b[39m_collision_checking:\n",
      "File \u001b[0;32m~/Apps/anaconda3/envs/perceiver/lib/python3.10/site-packages/rlbench/action_modes/arm_action_modes.py:208\u001b[0m, in \u001b[0;36mEndEffectorPoseViaPlanning._quick_boundary_check\u001b[0;34m(self, scene, action)\u001b[0m\n\u001b[1;32m    206\u001b[0m     pos_to_check \u001b[38;5;241m=\u001b[39m scene\u001b[38;5;241m.\u001b[39mtarget_workspace_check\u001b[38;5;241m.\u001b[39mget_position()\n\u001b[1;32m    207\u001b[0m \u001b[38;5;28;01mif\u001b[39;00m \u001b[38;5;129;01mnot\u001b[39;00m scene\u001b[38;5;241m.\u001b[39mcheck_target_in_workspace(pos_to_check):\n\u001b[0;32m--> 208\u001b[0m     \u001b[38;5;28;01mraise\u001b[39;00m InvalidActionError(\u001b[38;5;124m'\u001b[39m\u001b[38;5;124mA path could not be found because the \u001b[39m\u001b[38;5;124m'\u001b[39m\n\u001b[1;32m    209\u001b[0m                              \u001b[38;5;124m'\u001b[39m\u001b[38;5;124mtarget is outside of workspace.\u001b[39m\u001b[38;5;124m'\u001b[39m)\n",
      "\u001b[0;31mInvalidActionError\u001b[0m: A path could not be found because the target is outside of workspace."
     ]
    }
   ],
   "source": [
    "ts  = env.step(action)"
   ]
  },
  {
   "cell_type": "code",
   "execution_count": 5,
   "id": "93a6b371-6a0f-42c6-9f16-095f26659ff7",
   "metadata": {},
   "outputs": [],
   "source": [
    "scene = env.task._scene"
   ]
  },
  {
   "cell_type": "code",
   "execution_count": 7,
   "id": "434ea2db-e838-48b9-b078-09a4b65185da",
   "metadata": {},
   "outputs": [
    {
     "data": {
      "text/plain": [
       "['__class__',\n",
       " '__delattr__',\n",
       " '__dict__',\n",
       " '__dir__',\n",
       " '__doc__',\n",
       " '__eq__',\n",
       " '__format__',\n",
       " '__ge__',\n",
       " '__getattribute__',\n",
       " '__gt__',\n",
       " '__hash__',\n",
       " '__init__',\n",
       " '__init_subclass__',\n",
       " '__le__',\n",
       " '__lt__',\n",
       " '__module__',\n",
       " '__ne__',\n",
       " '__new__',\n",
       " '__reduce__',\n",
       " '__reduce_ex__',\n",
       " '__repr__',\n",
       " '__setattr__',\n",
       " '__sizeof__',\n",
       " '__str__',\n",
       " '__subclasshook__',\n",
       " '__weakref__',\n",
       " '_cam_front',\n",
       " '_cam_front_mask',\n",
       " '_cam_over_shoulder_left',\n",
       " '_cam_over_shoulder_left_mask',\n",
       " '_cam_over_shoulder_right',\n",
       " '_cam_over_shoulder_right_mask',\n",
       " '_cam_overhead',\n",
       " '_cam_overhead_mask',\n",
       " '_cam_wrist',\n",
       " '_cam_wrist_mask',\n",
       " '_demo_record_step',\n",
       " '_get_misc',\n",
       " '_has_init_episode',\n",
       " '_has_init_task',\n",
       " '_initial_robot_state',\n",
       " '_initial_task_pose',\n",
       " '_initial_task_state',\n",
       " '_obs_config',\n",
       " '_place_task',\n",
       " '_robot_shapes',\n",
       " '_set_camera_properties',\n",
       " '_start_arm_joint_pos',\n",
       " '_starting_gripper_joint_pos',\n",
       " '_step_callback',\n",
       " '_variation_index',\n",
       " '_workspace',\n",
       " '_workspace_boundary',\n",
       " '_workspace_maxx',\n",
       " '_workspace_maxy',\n",
       " '_workspace_maxz',\n",
       " '_workspace_minx',\n",
       " '_workspace_miny',\n",
       " '_workspace_minz',\n",
       " 'check_target_in_workspace',\n",
       " 'get_demo',\n",
       " 'get_observation',\n",
       " 'get_observation_config',\n",
       " 'init_episode',\n",
       " 'init_task',\n",
       " 'load',\n",
       " 'pyrep',\n",
       " 'register_step_callback',\n",
       " 'reset',\n",
       " 'robot',\n",
       " 'robot_setup',\n",
       " 'step',\n",
       " 'target_workspace_check',\n",
       " 'task',\n",
       " 'unload']"
      ]
     },
     "execution_count": 7,
     "metadata": {},
     "output_type": "execute_result"
    }
   ],
   "source": [
    "dir(scene)"
   ]
  },
  {
   "cell_type": "code",
   "execution_count": 10,
   "id": "596cd625-15e0-46ae-90e9-02b1b0e60ede",
   "metadata": {},
   "outputs": [],
   "source": [
    "bv = scene._workspace_boundary"
   ]
  },
  {
   "cell_type": "code",
   "execution_count": 13,
   "id": "46022cb1-2559-4b2c-b85d-ce5536f0d649",
   "metadata": {},
   "outputs": [
    {
     "data": {
      "text/plain": [
       "['MAX_SAMPLES',\n",
       " '__class__',\n",
       " '__delattr__',\n",
       " '__dict__',\n",
       " '__dir__',\n",
       " '__doc__',\n",
       " '__eq__',\n",
       " '__format__',\n",
       " '__ge__',\n",
       " '__getattribute__',\n",
       " '__gt__',\n",
       " '__hash__',\n",
       " '__init__',\n",
       " '__init_subclass__',\n",
       " '__le__',\n",
       " '__lt__',\n",
       " '__module__',\n",
       " '__ne__',\n",
       " '__new__',\n",
       " '__reduce__',\n",
       " '__reduce_ex__',\n",
       " '__repr__',\n",
       " '__setattr__',\n",
       " '__sizeof__',\n",
       " '__str__',\n",
       " '__subclasshook__',\n",
       " '__weakref__',\n",
       " '_boundaries',\n",
       " '_probabilities',\n",
       " 'clear',\n",
       " 'sample']"
      ]
     },
     "execution_count": 13,
     "metadata": {},
     "output_type": "execute_result"
    }
   ],
   "source": [
    "dir(sc"
   ]
  },
  {
   "cell_type": "code",
   "execution_count": null,
   "id": "abc1afd5-0f40-41d1-a649-b6bc6140450b",
   "metadata": {},
   "outputs": [],
   "source": []
  }
 ],
 "metadata": {
  "kernelspec": {
   "display_name": "Python 3 (ipykernel)",
   "language": "python",
   "name": "python3"
  },
  "language_info": {
   "codemirror_mode": {
    "name": "ipython",
    "version": 3
   },
   "file_extension": ".py",
   "mimetype": "text/x-python",
   "name": "python",
   "nbconvert_exporter": "python",
   "pygments_lexer": "ipython3",
   "version": "3.10.12"
  }
 },
 "nbformat": 4,
 "nbformat_minor": 5
}
