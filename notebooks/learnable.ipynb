{
 "cells": [
  {
   "cell_type": "code",
   "execution_count": 1,
   "id": "f4a8a899-67e1-43f0-b35f-66921e713500",
   "metadata": {},
   "outputs": [],
   "source": [
    "import jax \n",
    "import jax.numpy as jnp\n",
    "from flax import linen as nn\n",
    "jax.config.update('jax_platform_name', 'cpu')"
   ]
  },
  {
   "cell_type": "code",
   "execution_count": 91,
   "id": "da3d6d73-c985-407a-ab7a-4134e2c14ff6",
   "metadata": {},
   "outputs": [],
   "source": [
    "class LearnedPriorRNN(nn.RNNCellBase):\n",
    "    cell: nn.RNNCellBase\n",
    "\n",
    "    @nn.compact\n",
    "    def initialize_carry(self, rng, input_shape):\n",
    "        del rng\n",
    "        variable = self.variable('collection', 'name', jnp.zeros, (4,))\n",
    "        variable1 = self.variable('collection2', 'name', jnp.zeros, (2,))\n",
    "        init = self.param('learned', nn.initializers.constant(0), (self.cell.features,))\n",
    "        return jnp.tile(init, input_shape + (1,))"
   ]
  },
  {
   "cell_type": "code",
   "execution_count": 92,
   "id": "ef665b1c-2ebc-44b6-b7d8-3e242f66492e",
   "metadata": {},
   "outputs": [],
   "source": [
    "base_cell = nn.GRUCell(31)\n",
    "cell = LearnedPriorRNN(base_cell)"
   ]
  },
  {
   "cell_type": "code",
   "execution_count": 93,
   "id": "47b0fbfe-6372-4bec-89e0-5bdac33ee82e",
   "metadata": {},
   "outputs": [],
   "source": [
    "x = jnp.zeros((3,))\n",
    "key = jax.random.PRNGKey(0)\n",
    "params = cell.init(key, key, (), method=cell.initialize_carry)"
   ]
  },
  {
   "cell_type": "code",
   "execution_count": 1,
   "id": "743f58a0-feba-4790-a113-be8250928126",
   "metadata": {},
   "outputs": [],
   "source": [
    "%load_ext autoreload\n",
    "%autoreload 2"
   ]
  },
  {
   "cell_type": "code",
   "execution_count": 2,
   "id": "5b687c55-fa2d-489a-bcb2-f18959193af0",
   "metadata": {},
   "outputs": [],
   "source": [
    "import sys\n",
    "sys.path.append('../')\n",
    "\n",
    "import jax\n",
    "import jax.numpy as jnp\n",
    "jax.config.update('jax_platform_name', 'cpu')\n",
    "\n",
    "from src.networks import scaled_dot_product, MultiHeadAttention, TransformerBlock, TransformerEncoder\n",
    "from src.ops import _enc1d, positional_encoding"
   ]
  },
  {
   "cell_type": "code",
   "execution_count": 3,
   "id": "eb6a000b-27ec-417a-8448-4af7b8c7ddce",
   "metadata": {},
   "outputs": [],
   "source": [
    "x = jnp.zeros((3,4,5))"
   ]
  },
  {
   "cell_type": "code",
   "execution_count": 17,
   "id": "bf7fde22-c885-40da-98e2-3971034f4f57",
   "metadata": {},
   "outputs": [],
   "source": [
    "import numpy as np"
   ]
  },
  {
   "cell_type": "code",
   "execution_count": 18,
   "id": "543f964e-e3d7-424b-a1dd-60e73dfa059f",
   "metadata": {},
   "outputs": [],
   "source": [
    "a = np.random.normal(size=(2,3))\n",
    "b = np.random.normal(size=(4,5))\n",
    "c = np.random.normal(size=(7,11))"
   ]
  },
  {
   "cell_type": "code",
   "execution_count": 2,
   "id": "1c33708e-b487-4cd7-b278-574bfdd1fb68",
   "metadata": {},
   "outputs": [
    {
     "data": {
      "text/plain": [
       "[-3, -2]"
      ]
     },
     "execution_count": 2,
     "metadata": {},
     "output_type": "execute_result"
    }
   ],
   "source": [
    "list(range(-3, -1))"
   ]
  },
  {
   "cell_type": "code",
   "execution_count": 14,
   "id": "7209231e-aee8-4be5-9e59-1a75831add4c",
   "metadata": {},
   "outputs": [],
   "source": [
    "import jax.numpy as jnp\n",
    "import jax\n",
    "jax.config.update('jax_platform_name', 'cpu')\n",
    "\n",
    "def _concat_emb(carry, y):\n",
    "    \"\"\"\n",
    "    Args:\n",
    "        carry.shape = (d1, d2, ..., dn, kx)\n",
    "        y.shape = (dy, ky)\n",
    "    Returns:\n",
    "        res.shape = (d1, ..., dn, dy, kx + ky)\n",
    "    \"\"\"\n",
    "    if not isinstance(carry, jnp.ndarray):\n",
    "        # Carry init.\n",
    "        return y\n",
    "    x = carry\n",
    "    dims = x.shape[:-1]\n",
    "    x = jnp.expand_dims(x, -2)\n",
    "    y = jnp.expand_dims(y, tuple(range(len(dims))))\n",
    "    x = jnp.repeat(x, y.shape[-2], -2)\n",
    "    repeats = dims + (1, 1)\n",
    "    y = jnp.tile(y, repeats)\n",
    "    return jnp.concatenate([x, y], -1)"
   ]
  },
  {
   "cell_type": "code",
   "execution_count": 1,
   "id": "2159beb7-66a1-42a5-9473-65d7bec3302d",
   "metadata": {},
   "outputs": [],
   "source": [
    "import jax\n",
    "import jax.numpy as jnp\n",
    "jax.config.update('jax_platform_name', 'cpu')\n",
    "\n",
    "from flax import linen as nn\n",
    "from flax import core"
   ]
  },
  {
   "cell_type": "code",
   "execution_count": 30,
   "id": "6bb037e1-129b-4e9e-8e38-a3b3e3eca983",
   "metadata": {},
   "outputs": [],
   "source": [
    "class A(nn.Module):\n",
    "\n",
    "    def setup(self):\n",
    "        self.a = self.param('a', lambda: (lambda rng, sh, dtype: jnp.zeros(sh)))\n",
    "        self.b = self.variable('test', 'b', jnp.ones((4,)))\n",
    "\n",
    "    def __call__(self):\n",
    "        return self.a, self.b"
   ]
  },
  {
   "cell_type": "code",
   "execution_count": 31,
   "id": "5931ca66-4e37-49bb-952b-99b8d4dc9e8e",
   "metadata": {},
   "outputs": [
    {
     "ename": "TypeError",
     "evalue": "A.setup.<locals>.<lambda>() takes 0 positional arguments but 1 was given",
     "output_type": "error",
     "traceback": [
      "\u001b[0;31m---------------------------------------------------------------------------\u001b[0m",
      "\u001b[0;31mTypeError\u001b[0m                                 Traceback (most recent call last)",
      "Cell \u001b[0;32mIn[31], line 2\u001b[0m\n\u001b[1;32m      1\u001b[0m rng \u001b[38;5;241m=\u001b[39m jax\u001b[38;5;241m.\u001b[39mrandom\u001b[38;5;241m.\u001b[39mPRNGKey(\u001b[38;5;241m0\u001b[39m)\n\u001b[0;32m----> 2\u001b[0m params \u001b[38;5;241m=\u001b[39m \u001b[43mA\u001b[49m\u001b[43m(\u001b[49m\u001b[43m)\u001b[49m\u001b[38;5;241;43m.\u001b[39;49m\u001b[43minit\u001b[49m\u001b[43m(\u001b[49m\u001b[43mrng\u001b[49m\u001b[43m)\u001b[49m\n",
      "    \u001b[0;31m[... skipping hidden 12 frame]\u001b[0m\n",
      "Cell \u001b[0;32mIn[30], line 4\u001b[0m, in \u001b[0;36mA.setup\u001b[0;34m(self)\u001b[0m\n\u001b[1;32m      3\u001b[0m \u001b[38;5;28;01mdef\u001b[39;00m \u001b[38;5;21msetup\u001b[39m(\u001b[38;5;28mself\u001b[39m):\n\u001b[0;32m----> 4\u001b[0m     \u001b[38;5;28mself\u001b[39m\u001b[38;5;241m.\u001b[39ma \u001b[38;5;241m=\u001b[39m \u001b[38;5;28;43mself\u001b[39;49m\u001b[38;5;241;43m.\u001b[39;49m\u001b[43mparam\u001b[49m\u001b[43m(\u001b[49m\u001b[38;5;124;43m'\u001b[39;49m\u001b[38;5;124;43ma\u001b[39;49m\u001b[38;5;124;43m'\u001b[39;49m\u001b[43m,\u001b[49m\u001b[43m \u001b[49m\u001b[38;5;28;43;01mlambda\u001b[39;49;00m\u001b[43m:\u001b[49m\u001b[43m \u001b[49m\u001b[43m(\u001b[49m\u001b[38;5;28;43;01mlambda\u001b[39;49;00m\u001b[43m \u001b[49m\u001b[43mrng\u001b[49m\u001b[43m,\u001b[49m\u001b[43m \u001b[49m\u001b[43msh\u001b[49m\u001b[43m,\u001b[49m\u001b[43m \u001b[49m\u001b[43mdtype\u001b[49m\u001b[43m:\u001b[49m\u001b[43m \u001b[49m\u001b[43mjnp\u001b[49m\u001b[38;5;241;43m.\u001b[39;49m\u001b[43mzeros\u001b[49m\u001b[43m(\u001b[49m\u001b[43msh\u001b[49m\u001b[43m)\u001b[49m\u001b[43m)\u001b[49m\u001b[43m)\u001b[49m\n\u001b[1;32m      5\u001b[0m     \u001b[38;5;28mself\u001b[39m\u001b[38;5;241m.\u001b[39mb \u001b[38;5;241m=\u001b[39m \u001b[38;5;28mself\u001b[39m\u001b[38;5;241m.\u001b[39mvariable(\u001b[38;5;124m'\u001b[39m\u001b[38;5;124mtest\u001b[39m\u001b[38;5;124m'\u001b[39m, \u001b[38;5;124m'\u001b[39m\u001b[38;5;124mb\u001b[39m\u001b[38;5;124m'\u001b[39m, jnp\u001b[38;5;241m.\u001b[39mones((\u001b[38;5;241m4\u001b[39m,)))\n",
      "    \u001b[0;31m[... skipping hidden 1 frame]\u001b[0m\n",
      "File \u001b[0;32m~/Apps/anaconda3/envs/flax/lib/python3.11/site-packages/flax/core/scope.py:897\u001b[0m, in \u001b[0;36mScope.param\u001b[0;34m(self, name, init_fn, unbox, *init_args)\u001b[0m\n\u001b[1;32m    895\u001b[0m       \u001b[38;5;28;01mraise\u001b[39;00m errors\u001b[38;5;241m.\u001b[39mScopeCollectionNotFound(\u001b[38;5;124m'\u001b[39m\u001b[38;5;124mparams\u001b[39m\u001b[38;5;124m'\u001b[39m, name, \u001b[38;5;28mself\u001b[39m\u001b[38;5;241m.\u001b[39mpath_text)\n\u001b[1;32m    896\u001b[0m     \u001b[38;5;28;01mraise\u001b[39;00m errors\u001b[38;5;241m.\u001b[39mScopeParamNotFoundError(name, \u001b[38;5;28mself\u001b[39m\u001b[38;5;241m.\u001b[39mpath_text)\n\u001b[0;32m--> 897\u001b[0m   value \u001b[38;5;241m=\u001b[39m \u001b[43minit_fn\u001b[49m\u001b[43m(\u001b[49m\u001b[38;5;28;43mself\u001b[39;49m\u001b[38;5;241;43m.\u001b[39;49m\u001b[43mmake_rng\u001b[49m\u001b[43m(\u001b[49m\u001b[38;5;124;43m'\u001b[39;49m\u001b[38;5;124;43mparams\u001b[39;49m\u001b[38;5;124;43m'\u001b[39;49m\u001b[43m)\u001b[49m\u001b[43m,\u001b[49m\u001b[43m \u001b[49m\u001b[38;5;241;43m*\u001b[39;49m\u001b[43minit_args\u001b[49m\u001b[43m)\u001b[49m\n\u001b[1;32m    898\u001b[0m   \u001b[38;5;28mself\u001b[39m\u001b[38;5;241m.\u001b[39mput_variable(\u001b[38;5;124m'\u001b[39m\u001b[38;5;124mparams\u001b[39m\u001b[38;5;124m'\u001b[39m, name, value)\n\u001b[1;32m    899\u001b[0m \u001b[38;5;28;01mif\u001b[39;00m unbox:\n",
      "\u001b[0;31mTypeError\u001b[0m: A.setup.<locals>.<lambda>() takes 0 positional arguments but 1 was given"
     ]
    }
   ],
   "source": [
    "rng = jax.random.PRNGKey(0)\n",
    "params = A().init(rng)"
   ]
  },
  {
   "cell_type": "code",
   "execution_count": 32,
   "id": "481f7669-015d-4997-b981-1b1372d8cb6f",
   "metadata": {},
   "outputs": [],
   "source": [
    "\n",
    "def generate_fourier_features(\n",
    "    pos, num_bands, max_resolution=(224, 224),\n",
    "    concat_pos=True, sine_only=False):\n",
    "  \"\"\"Generate a Fourier frequency position encoding with linear spacing.\n",
    "\n",
    "  Args:\n",
    "    pos: The position of n points in d dimensional space.\n",
    "      A jnp array of shape [n, d].\n",
    "    num_bands: The number of bands (K) to use.\n",
    "    max_resolution: The maximum resolution (i.e. the number of pixels per dim).\n",
    "      A tuple representing resolution for each dimension\n",
    "    concat_pos: Concatenate the input position encoding to the Fourier features?\n",
    "    sine_only: Whether to use a single phase (sin) or two (sin/cos) for each\n",
    "      frequency band.\n",
    "  Returns:\n",
    "    embedding: A 1D jnp array of shape [n, n_channels]. If concat_pos is True\n",
    "      and sine_only is False, output dimensions are ordered as:\n",
    "        [dim_1, dim_2, ..., dim_d,\n",
    "         sin(pi*f_1*dim_1), ..., sin(pi*f_K*dim_1), ...,\n",
    "         sin(pi*f_1*dim_d), ..., sin(pi*f_K*dim_d),\n",
    "         cos(pi*f_1*dim_1), ..., cos(pi*f_K*dim_1), ...,\n",
    "         cos(pi*f_1*dim_d), ..., cos(pi*f_K*dim_d)],\n",
    "       where dim_i is pos[:, i] and f_k is the kth frequency band.\n",
    "  \"\"\"\n",
    "  min_freq = 1.0\n",
    "  # Nyquist frequency at the target resolution:\n",
    "\n",
    "  freq_bands = jnp.stack([\n",
    "      jnp.linspace(min_freq, res / 2, num=num_bands, endpoint=True)\n",
    "      for res in max_resolution], axis=0)\n",
    "\n",
    "  # Get frequency bands for each spatial dimension.\n",
    "  # Output is size [n, d * num_bands]\n",
    "  per_pos_features = pos[:, :, None] * freq_bands[None, :, :]\n",
    "  per_pos_features = jnp.reshape(per_pos_features,\n",
    "                                 [-1, np.prod(per_pos_features.shape[1:])])\n",
    "\n",
    "  if sine_only:\n",
    "    # Output is size [n, d * num_bands]\n",
    "    per_pos_features = jnp.sin(jnp.pi * (per_pos_features))\n",
    "  else:\n",
    "    # Output is size [n, 2 * d * num_bands]\n",
    "    per_pos_features = jnp.concatenate(\n",
    "        [jnp.sin(jnp.pi * per_pos_features),\n",
    "         jnp.cos(jnp.pi * per_pos_features)], axis=-1)\n",
    "  # Concatenate the raw input positions.\n",
    "  if concat_pos:\n",
    "    # Adds d bands to the encoding.\n",
    "    per_pos_features = jnp.concatenate([pos, per_pos_features], axis=-1)\n",
    "  return per_pos_features"
   ]
  },
  {
   "cell_type": "code",
   "execution_count": 33,
   "id": "59cc951f-cac7-4330-875f-762e5e465073",
   "metadata": {},
   "outputs": [],
   "source": [
    "def build_linear_positions(index_dims, output_range=(-1.0, 1.0)):\n",
    "  \"\"\"Generate an array of position indices for an N-D input array.\n",
    "\n",
    "  Args:\n",
    "    index_dims: The shape of the index dimensions of the input array.\n",
    "    output_range: The min and max values taken by each input index dimension.\n",
    "  Returns:\n",
    "    A jnp array of shape [index_dims[0], index_dims[1], .., index_dims[-1], N].\n",
    "  \"\"\"\n",
    "  def _linspace(n_xels_per_dim):\n",
    "    return jnp.linspace(\n",
    "        output_range[0], output_range[1],\n",
    "        num=n_xels_per_dim,\n",
    "        endpoint=True, dtype=jnp.float32)\n",
    "\n",
    "  dim_ranges = [\n",
    "      _linspace(n_xels_per_dim) for n_xels_per_dim in index_dims]\n",
    "  array_index_grid = jnp.meshgrid(*dim_ranges, indexing='ij')\n",
    "\n",
    "  return jnp.stack(array_index_grid, axis=-1)"
   ]
  },
  {
   "cell_type": "code",
   "execution_count": 39,
   "id": "6cbcf43f-098e-432c-824c-22d86833026f",
   "metadata": {},
   "outputs": [],
   "source": [
    "pos = build_linear_positions([1,3])"
   ]
  },
  {
   "cell_type": "code",
   "execution_count": 52,
   "id": "76eac829-4e17-4914-8178-bc321f7fa53b",
   "metadata": {},
   "outputs": [
    {
     "ename": "TypeError",
     "evalue": "mul got incompatible shapes for broadcasting: (1, 3, 1), (1, 2, 5).",
     "output_type": "error",
     "traceback": [
      "\u001b[0;31m---------------------------------------------------------------------------\u001b[0m",
      "\u001b[0;31mTypeError\u001b[0m                                 Traceback (most recent call last)",
      "Cell \u001b[0;32mIn[52], line 2\u001b[0m\n\u001b[1;32m      1\u001b[0m \u001b[38;5;28;01mimport\u001b[39;00m \u001b[38;5;21;01mnumpy\u001b[39;00m \u001b[38;5;28;01mas\u001b[39;00m \u001b[38;5;21;01mnp\u001b[39;00m\n\u001b[0;32m----> 2\u001b[0m feats \u001b[38;5;241m=\u001b[39m \u001b[43mgenerate_fourier_features\u001b[49m\u001b[43m(\u001b[49m\u001b[43mpos\u001b[49m\u001b[43m[\u001b[49m\u001b[38;5;241;43m.\u001b[39;49m\u001b[38;5;241;43m.\u001b[39;49m\u001b[38;5;241;43m.\u001b[39;49m\u001b[43m,\u001b[49m\u001b[43m \u001b[49m\u001b[38;5;241;43m0\u001b[39;49m\u001b[43m]\u001b[49m\u001b[43m,\u001b[49m\u001b[43m \u001b[49m\u001b[38;5;241;43m5\u001b[39;49m\u001b[43m)\u001b[49m\n",
      "Cell \u001b[0;32mIn[32], line 34\u001b[0m, in \u001b[0;36mgenerate_fourier_features\u001b[0;34m(pos, num_bands, max_resolution, concat_pos, sine_only)\u001b[0m\n\u001b[1;32m     28\u001b[0m freq_bands \u001b[38;5;241m=\u001b[39m jnp\u001b[38;5;241m.\u001b[39mstack([\n\u001b[1;32m     29\u001b[0m     jnp\u001b[38;5;241m.\u001b[39mlinspace(min_freq, res \u001b[38;5;241m/\u001b[39m \u001b[38;5;241m2\u001b[39m, num\u001b[38;5;241m=\u001b[39mnum_bands, endpoint\u001b[38;5;241m=\u001b[39m\u001b[38;5;28;01mTrue\u001b[39;00m)\n\u001b[1;32m     30\u001b[0m     \u001b[38;5;28;01mfor\u001b[39;00m res \u001b[38;5;129;01min\u001b[39;00m max_resolution], axis\u001b[38;5;241m=\u001b[39m\u001b[38;5;241m0\u001b[39m)\n\u001b[1;32m     32\u001b[0m \u001b[38;5;66;03m# Get frequency bands for each spatial dimension.\u001b[39;00m\n\u001b[1;32m     33\u001b[0m \u001b[38;5;66;03m# Output is size [n, d * num_bands]\u001b[39;00m\n\u001b[0;32m---> 34\u001b[0m per_pos_features \u001b[38;5;241m=\u001b[39m \u001b[43mpos\u001b[49m\u001b[43m[\u001b[49m\u001b[43m:\u001b[49m\u001b[43m,\u001b[49m\u001b[43m \u001b[49m\u001b[43m:\u001b[49m\u001b[43m,\u001b[49m\u001b[43m \u001b[49m\u001b[38;5;28;43;01mNone\u001b[39;49;00m\u001b[43m]\u001b[49m\u001b[43m \u001b[49m\u001b[38;5;241;43m*\u001b[39;49m\u001b[43m \u001b[49m\u001b[43mfreq_bands\u001b[49m\u001b[43m[\u001b[49m\u001b[38;5;28;43;01mNone\u001b[39;49;00m\u001b[43m,\u001b[49m\u001b[43m \u001b[49m\u001b[43m:\u001b[49m\u001b[43m,\u001b[49m\u001b[43m \u001b[49m\u001b[43m:\u001b[49m\u001b[43m]\u001b[49m\n\u001b[1;32m     35\u001b[0m per_pos_features \u001b[38;5;241m=\u001b[39m jnp\u001b[38;5;241m.\u001b[39mreshape(per_pos_features,\n\u001b[1;32m     36\u001b[0m                                [\u001b[38;5;241m-\u001b[39m\u001b[38;5;241m1\u001b[39m, np\u001b[38;5;241m.\u001b[39mprod(per_pos_features\u001b[38;5;241m.\u001b[39mshape[\u001b[38;5;241m1\u001b[39m:])])\n\u001b[1;32m     38\u001b[0m \u001b[38;5;28;01mif\u001b[39;00m sine_only:\n\u001b[1;32m     39\u001b[0m   \u001b[38;5;66;03m# Output is size [n, d * num_bands]\u001b[39;00m\n",
      "File \u001b[0;32m~/Apps/anaconda3/envs/flax/lib/python3.11/site-packages/jax/_src/numpy/array_methods.py:258\u001b[0m, in \u001b[0;36m_defer_to_unrecognized_arg.<locals>.deferring_binary_op\u001b[0;34m(self, other)\u001b[0m\n\u001b[1;32m    256\u001b[0m args \u001b[38;5;241m=\u001b[39m (other, \u001b[38;5;28mself\u001b[39m) \u001b[38;5;28;01mif\u001b[39;00m swap \u001b[38;5;28;01melse\u001b[39;00m (\u001b[38;5;28mself\u001b[39m, other)\n\u001b[1;32m    257\u001b[0m \u001b[38;5;28;01mif\u001b[39;00m \u001b[38;5;28misinstance\u001b[39m(other, _accepted_binop_types):\n\u001b[0;32m--> 258\u001b[0m   \u001b[38;5;28;01mreturn\u001b[39;00m \u001b[43mbinary_op\u001b[49m\u001b[43m(\u001b[49m\u001b[38;5;241;43m*\u001b[39;49m\u001b[43margs\u001b[49m\u001b[43m)\u001b[49m\n\u001b[1;32m    259\u001b[0m \u001b[38;5;28;01mif\u001b[39;00m \u001b[38;5;28misinstance\u001b[39m(other, _rejected_binop_types):\n\u001b[1;32m    260\u001b[0m   \u001b[38;5;28;01mraise\u001b[39;00m \u001b[38;5;167;01mTypeError\u001b[39;00m(\u001b[38;5;124mf\u001b[39m\u001b[38;5;124m\"\u001b[39m\u001b[38;5;124munsupported operand type(s) for \u001b[39m\u001b[38;5;132;01m{\u001b[39;00mopchar\u001b[38;5;132;01m}\u001b[39;00m\u001b[38;5;124m: \u001b[39m\u001b[38;5;124m\"\u001b[39m\n\u001b[1;32m    261\u001b[0m                   \u001b[38;5;124mf\u001b[39m\u001b[38;5;124m\"\u001b[39m\u001b[38;5;132;01m{\u001b[39;00m\u001b[38;5;28mtype\u001b[39m(args[\u001b[38;5;241m0\u001b[39m])\u001b[38;5;241m.\u001b[39m\u001b[38;5;18m__name__\u001b[39m\u001b[38;5;132;01m!r}\u001b[39;00m\u001b[38;5;124m and \u001b[39m\u001b[38;5;132;01m{\u001b[39;00m\u001b[38;5;28mtype\u001b[39m(args[\u001b[38;5;241m1\u001b[39m])\u001b[38;5;241m.\u001b[39m\u001b[38;5;18m__name__\u001b[39m\u001b[38;5;132;01m!r}\u001b[39;00m\u001b[38;5;124m\"\u001b[39m)\n",
      "    \u001b[0;31m[... skipping hidden 12 frame]\u001b[0m\n",
      "File \u001b[0;32m~/Apps/anaconda3/envs/flax/lib/python3.11/site-packages/jax/_src/numpy/ufuncs.py:97\u001b[0m, in \u001b[0;36m_maybe_bool_binop.<locals>.fn\u001b[0;34m(x1, x2)\u001b[0m\n\u001b[1;32m     95\u001b[0m \u001b[38;5;28;01mdef\u001b[39;00m \u001b[38;5;21mfn\u001b[39m(x1, x2, \u001b[38;5;241m/\u001b[39m):\n\u001b[1;32m     96\u001b[0m   x1, x2 \u001b[38;5;241m=\u001b[39m promote_args(numpy_fn\u001b[38;5;241m.\u001b[39m\u001b[38;5;18m__name__\u001b[39m, x1, x2)\n\u001b[0;32m---> 97\u001b[0m   \u001b[38;5;28;01mreturn\u001b[39;00m \u001b[43mlax_fn\u001b[49m\u001b[43m(\u001b[49m\u001b[43mx1\u001b[49m\u001b[43m,\u001b[49m\u001b[43m \u001b[49m\u001b[43mx2\u001b[49m\u001b[43m)\u001b[49m \u001b[38;5;28;01mif\u001b[39;00m x1\u001b[38;5;241m.\u001b[39mdtype \u001b[38;5;241m!=\u001b[39m np\u001b[38;5;241m.\u001b[39mbool_ \u001b[38;5;28;01melse\u001b[39;00m bool_lax_fn(x1, x2)\n",
      "    \u001b[0;31m[... skipping hidden 7 frame]\u001b[0m\n",
      "File \u001b[0;32m~/Apps/anaconda3/envs/flax/lib/python3.11/site-packages/jax/_src/lax/lax.py:1578\u001b[0m, in \u001b[0;36mbroadcasting_shape_rule\u001b[0;34m(name, *avals)\u001b[0m\n\u001b[1;32m   1576\u001b[0m       result_shape\u001b[38;5;241m.\u001b[39mappend(non_1s[\u001b[38;5;241m0\u001b[39m])\n\u001b[1;32m   1577\u001b[0m     \u001b[38;5;28;01melse\u001b[39;00m:\n\u001b[0;32m-> 1578\u001b[0m       \u001b[38;5;28;01mraise\u001b[39;00m \u001b[38;5;167;01mTypeError\u001b[39;00m(\u001b[38;5;124mf\u001b[39m\u001b[38;5;124m'\u001b[39m\u001b[38;5;132;01m{\u001b[39;00mname\u001b[38;5;132;01m}\u001b[39;00m\u001b[38;5;124m got incompatible shapes for broadcasting: \u001b[39m\u001b[38;5;124m'\u001b[39m\n\u001b[1;32m   1579\u001b[0m                       \u001b[38;5;124mf\u001b[39m\u001b[38;5;124m'\u001b[39m\u001b[38;5;132;01m{\u001b[39;00m\u001b[38;5;124m\"\u001b[39m\u001b[38;5;124m, \u001b[39m\u001b[38;5;124m\"\u001b[39m\u001b[38;5;241m.\u001b[39mjoin(\u001b[38;5;28mmap\u001b[39m(\u001b[38;5;28mstr\u001b[39m,\u001b[38;5;250m \u001b[39m\u001b[38;5;28mmap\u001b[39m(\u001b[38;5;28mtuple\u001b[39m,\u001b[38;5;250m \u001b[39mshapes)))\u001b[38;5;132;01m}\u001b[39;00m\u001b[38;5;124m.\u001b[39m\u001b[38;5;124m'\u001b[39m)\n\u001b[1;32m   1581\u001b[0m \u001b[38;5;28;01mreturn\u001b[39;00m \u001b[38;5;28mtuple\u001b[39m(result_shape)\n",
      "\u001b[0;31mTypeError\u001b[0m: mul got incompatible shapes for broadcasting: (1, 3, 1), (1, 2, 5)."
     ]
    }
   ],
   "source": [
    "import numpy as np\n",
    "feats = generate_fourier_features(pos[..., 0], 5)"
   ]
  },
  {
   "cell_type": "code",
   "execution_count": 51,
   "id": "ab556738-90cf-4286-bcea-b03450c7df33",
   "metadata": {},
   "outputs": [
    {
     "data": {
      "text/plain": [
       "(3, 22)"
      ]
     },
     "execution_count": 51,
     "metadata": {},
     "output_type": "execute_result"
    }
   ],
   "source": [
    "feats.shape"
   ]
  },
  {
   "cell_type": "code",
   "execution_count": 49,
   "id": "da09c73e-1350-41e6-b78d-f867491cde57",
   "metadata": {},
   "outputs": [
    {
     "data": {
      "text/plain": [
       "(1, 3, 2)"
      ]
     },
     "execution_count": 49,
     "metadata": {},
     "output_type": "execute_result"
    }
   ],
   "source": [
    "pos.shape"
   ]
  },
  {
   "cell_type": "code",
   "execution_count": null,
   "id": "57f3d405-cf83-42b0-9d00-2df7953199f7",
   "metadata": {},
   "outputs": [],
   "source": []
  }
 ],
 "metadata": {
  "kernelspec": {
   "display_name": "Python 3 (ipykernel)",
   "language": "python",
   "name": "python3"
  },
  "language_info": {
   "codemirror_mode": {
    "name": "ipython",
    "version": 3
   },
   "file_extension": ".py",
   "mimetype": "text/x-python",
   "name": "python",
   "nbconvert_exporter": "python",
   "pygments_lexer": "ipython3",
   "version": "3.11.3"
  }
 },
 "nbformat": 4,
 "nbformat_minor": 5
}
