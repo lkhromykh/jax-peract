{
 "cells": [
  {
   "cell_type": "code",
   "execution_count": 1,
   "id": "f4a8a899-67e1-43f0-b35f-66921e713500",
   "metadata": {},
   "outputs": [],
   "source": [
    "import jax \n",
    "import jax.numpy as jnp\n",
    "from flax import linen as nn\n",
    "jax.config.update('jax_platform_name', 'cpu')"
   ]
  },
  {
   "cell_type": "code",
   "execution_count": 91,
   "id": "da3d6d73-c985-407a-ab7a-4134e2c14ff6",
   "metadata": {},
   "outputs": [],
   "source": [
    "class LearnedPriorRNN(nn.RNNCellBase):\n",
    "    cell: nn.RNNCellBase\n",
    "\n",
    "    @nn.compact\n",
    "    def initialize_carry(self, rng, input_shape):\n",
    "        del rng\n",
    "        variable = self.variable('collection', 'name', jnp.zeros, (4,))\n",
    "        variable1 = self.variable('collection2', 'name', jnp.zeros, (2,))\n",
    "        init = self.param('learned', nn.initializers.constant(0), (self.cell.features,))\n",
    "        return jnp.tile(init, input_shape + (1,))"
   ]
  },
  {
   "cell_type": "code",
   "execution_count": 92,
   "id": "ef665b1c-2ebc-44b6-b7d8-3e242f66492e",
   "metadata": {},
   "outputs": [],
   "source": [
    "base_cell = nn.GRUCell(31)\n",
    "cell = LearnedPriorRNN(base_cell)"
   ]
  },
  {
   "cell_type": "code",
   "execution_count": 93,
   "id": "47b0fbfe-6372-4bec-89e0-5bdac33ee82e",
   "metadata": {},
   "outputs": [],
   "source": [
    "x = jnp.zeros((3,))\n",
    "key = jax.random.PRNGKey(0)\n",
    "params = cell.init(key, key, (), method=cell.initialize_carry)"
   ]
  },
  {
   "cell_type": "code",
   "execution_count": 1,
   "id": "743f58a0-feba-4790-a113-be8250928126",
   "metadata": {},
   "outputs": [],
   "source": [
    "%load_ext autoreload\n",
    "%autoreload 2"
   ]
  },
  {
   "cell_type": "code",
   "execution_count": 2,
   "id": "5b687c55-fa2d-489a-bcb2-f18959193af0",
   "metadata": {},
   "outputs": [],
   "source": [
    "import sys\n",
    "sys.path.append('../')\n",
    "\n",
    "import jax\n",
    "import jax.numpy as jnp\n",
    "jax.config.update('jax_platform_name', 'cpu')\n",
    "\n",
    "from src.networks import scaled_dot_product, MultiHeadAttention, TransformerBlock, TransformerEncoder\n",
    "from src.ops import _enc1d, positional_encoding"
   ]
  },
  {
   "cell_type": "code",
   "execution_count": 3,
   "id": "eb6a000b-27ec-417a-8448-4af7b8c7ddce",
   "metadata": {},
   "outputs": [],
   "source": [
    "x = jnp.zeros((3,4,5))"
   ]
  },
  {
   "cell_type": "code",
   "execution_count": 17,
   "id": "bf7fde22-c885-40da-98e2-3971034f4f57",
   "metadata": {},
   "outputs": [],
   "source": [
    "import numpy as np"
   ]
  },
  {
   "cell_type": "code",
   "execution_count": 18,
   "id": "543f964e-e3d7-424b-a1dd-60e73dfa059f",
   "metadata": {},
   "outputs": [],
   "source": [
    "a = np.random.normal(size=(2,3))\n",
    "b = np.random.normal(size=(4,5))\n",
    "c = np.random.normal(size=(7,11))"
   ]
  },
  {
   "cell_type": "code",
   "execution_count": 2,
   "id": "1c33708e-b487-4cd7-b278-574bfdd1fb68",
   "metadata": {},
   "outputs": [
    {
     "data": {
      "text/plain": [
       "[-3, -2]"
      ]
     },
     "execution_count": 2,
     "metadata": {},
     "output_type": "execute_result"
    }
   ],
   "source": [
    "list(range(-3, -1))"
   ]
  },
  {
   "cell_type": "code",
   "execution_count": 14,
   "id": "7209231e-aee8-4be5-9e59-1a75831add4c",
   "metadata": {},
   "outputs": [],
   "source": [
    "import jax.numpy as jnp\n",
    "import jax\n",
    "jax.config.update('jax_platform_name', 'cpu')\n",
    "\n",
    "def _concat_emb(carry, y):\n",
    "    \"\"\"\n",
    "    Args:\n",
    "        carry.shape = (d1, d2, ..., dn, kx)\n",
    "        y.shape = (dy, ky)\n",
    "    Returns:\n",
    "        res.shape = (d1, ..., dn, dy, kx + ky)\n",
    "    \"\"\"\n",
    "    if not isinstance(carry, jnp.ndarray):\n",
    "        # Carry init.\n",
    "        return y\n",
    "    x = carry\n",
    "    dims = x.shape[:-1]\n",
    "    x = jnp.expand_dims(x, -2)\n",
    "    y = jnp.expand_dims(y, tuple(range(len(dims))))\n",
    "    x = jnp.repeat(x, y.shape[-2], -2)\n",
    "    repeats = dims + (1, 1)\n",
    "    y = jnp.tile(y, repeats)\n",
    "    return jnp.concatenate([x, y], -1)"
   ]
  },
  {
   "cell_type": "code",
   "execution_count": 17,
   "id": "2159beb7-66a1-42a5-9473-65d7bec3302d",
   "metadata": {},
   "outputs": [],
   "source": [
    "import jax\n",
    "import jax.numpy as jnp\n",
    "jax.config.update('jax_platform_name', 'cpu')"
   ]
  }
 ],
 "metadata": {
  "kernelspec": {
   "display_name": "Python 3 (ipykernel)",
   "language": "python",
   "name": "python3"
  },
  "language_info": {
   "codemirror_mode": {
    "name": "ipython",
    "version": 3
   },
   "file_extension": ".py",
   "mimetype": "text/x-python",
   "name": "python",
   "nbconvert_exporter": "python",
   "pygments_lexer": "ipython3",
   "version": "3.11.3"
  }
 },
 "nbformat": 4,
 "nbformat_minor": 5
}
