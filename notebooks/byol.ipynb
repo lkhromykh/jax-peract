{
 "cells": [
  {
   "cell_type": "code",
   "execution_count": 1,
   "id": "2ae301c5-c6ff-4eb1-baa6-0a7d97f1b197",
   "metadata": {},
   "outputs": [
    {
     "name": "stderr",
     "output_type": "stream",
     "text": [
      "/home/khromykhla/Apps/anaconda3/envs/flax/lib/python3.11/site-packages/tqdm/auto.py:21: TqdmWarning: IProgress not found. Please update jupyter and ipywidgets. See https://ipywidgets.readthedocs.io/en/stable/user_install.html\n",
      "  from .autonotebook import tqdm as notebook_tqdm\n"
     ]
    }
   ],
   "source": [
    "from typing import Callable, Any\n",
    "\n",
    "import jax\n",
    "import jax.numpy as jnp\n",
    "import numpy as np\n",
    "import flax.linen as nn\n",
    "from flax import struct\n",
    "import optax\n",
    "import tensorflow_datasets as tfds\n",
    "\n",
    "# jax.config.update('jax_platform_name', 'cpu')\n",
    "\n",
    "key = jax.random.PRNGKey(0)"
   ]
  },
  {
   "cell_type": "code",
   "execution_count": 2,
   "id": "1ae5d4fe-a1a0-4a5d-955e-84d3909c2a5b",
   "metadata": {},
   "outputs": [],
   "source": [
    "Array = jnp.ndarray\n",
    "Layers = tuple[int, ...]\n",
    "RNG = jax.random.PRNGKey\n",
    "Activation = Callable[[Array], Array]"
   ]
  },
  {
   "cell_type": "code",
   "execution_count": 3,
   "id": "1758019c-abef-4afc-a50c-0706a9d685e9",
   "metadata": {},
   "outputs": [],
   "source": [
    "def mlp(hid_dim, out_dim):\n",
    "    return nn.Sequential([\n",
    "        nn.Dense(hid_dim),\n",
    "        nn.LayerNorm(),\n",
    "        jax.nn.relu,\n",
    "        nn.Dense(out_dim)\n",
    "    ])\n",
    "\n",
    "class CNN(nn.Module):\n",
    "    emb_dim: int\n",
    "    depths: Layers\n",
    "    kernels: Layers\n",
    "    strides: Layers\n",
    "\n",
    "    @nn.compact\n",
    "    def __call__(self, img):\n",
    "        prefix = img.shape[:-3]\n",
    "        gen = zip(self.depths, self.kernels, self.strides)\n",
    "        x = img / 255.\n",
    "        for d, k, s in gen:\n",
    "            x = nn.Conv(d, (k, k), s, padding='valid')(x)\n",
    "            x = nn.LayerNorm()(x)\n",
    "            x = jax.nn.relu(x)\n",
    "        return x.reshape(prefix + (-1,))"
   ]
  },
  {
   "cell_type": "code",
   "execution_count": 4,
   "id": "921391cd-4146-451b-8367-33117ad94396",
   "metadata": {},
   "outputs": [],
   "source": [
    "def random_crop(rng,\n",
    "                img,\n",
    "                crop_size\n",
    "                ):\n",
    "    pad = (crop_size, crop_size)\n",
    "    nopad = (0, 0)\n",
    "    pad_with = 2 * (pad,) + (nopad,)\n",
    "    crop = jax.random.randint(rng, (2,), 0, 2 * crop_size + 1)\n",
    "    crop = jnp.concatenate([crop, jnp.zeros(1)], dtype=jnp.int32)\n",
    "    padded = jnp.pad(img, pad_with, mode='edge')\n",
    "    return jax.lax.dynamic_slice(padded, crop, img.shape)\n",
    "\n",
    "aug_v = lambda rng, img, size: jax.vmap(random_crop, in_axes=(0,0,None))(jax.random.split(rng, img.shape[0]), img, size)"
   ]
  },
  {
   "cell_type": "code",
   "execution_count": 5,
   "id": "c64f2e3b-b67a-4f6a-b7bd-2ed9888299ca",
   "metadata": {},
   "outputs": [],
   "source": [
    "class BYOL(nn.Module):\n",
    "    encoder: nn.Module\n",
    "    projector: nn.Module\n",
    "    predictor: nn.Module\n",
    "    classifier: nn.Module\n",
    "\n",
    "    @nn.compact\n",
    "    def __call__(self, img):\n",
    "        emb = self.encoder(img)\n",
    "        g = self.projector(emb)\n",
    "        q = self.predictor(g)\n",
    "        cl = self.classifier(jax.lax.stop_gradient(g))\n",
    "        # cl = self.classifier(jax.lax.stop_gradient(emb))\n",
    "        return {\n",
    "            'embedding': emb,\n",
    "            'projection': g,\n",
    "            'prediction': q,\n",
    "            'classification': cl\n",
    "        }\n",
    "        "
   ]
  },
  {
   "cell_type": "code",
   "execution_count": 6,
   "id": "3b87a8f4-94e7-4341-aa9b-c1115370b00b",
   "metadata": {},
   "outputs": [],
   "source": [
    "from typing import Any\n",
    "\n",
    "from flax import struct\n",
    "import optax\n",
    "\n",
    "class TrainingState(struct.PyTreeNode):\n",
    "    params: Any\n",
    "    target_params: Any\n",
    "    optim_state: Any\n",
    "    rng: Any\n",
    "    step: Any\n",
    "\n",
    "    update_fn: optax.TransformUpdateFn = struct.field(pytree_node=False)\n",
    "    target_update: Any = struct.field(pytree_node=False)\n",
    "\n",
    "    def update(self, grad):\n",
    "        updates, state = self.update_fn(grad, self.optim_state, self.params)\n",
    "        params = optax.apply_updates(self.params, updates)\n",
    "        target_params = optax.incremental_update(params, self.target_params, self.target_update)\n",
    "        return self.replace(params=params,\n",
    "                            target_params=target_params,\n",
    "                            optim_state=state,\n",
    "                            step=self.step + 1)\n",
    "\n",
    "    @classmethod\n",
    "    def init(cls, rng, params, optim, target_update):\n",
    "        state = optim.init(params)\n",
    "        return cls(params, params, state, rng, 0, optim.update, target_update)"
   ]
  },
  {
   "cell_type": "code",
   "execution_count": 7,
   "id": "a1963de5-1b69-4457-8a55-25a35cb4f9e9",
   "metadata": {},
   "outputs": [],
   "source": [
    "def byol_fn(net):\n",
    "    def loss_fn(params, target_params, rng, img, label):\n",
    "        k1, k2 = jax.random.split(rng)\n",
    "        v1 = aug_v(k1, img, 4)\n",
    "        v2 = aug_v(k2, img, 4)\n",
    "\n",
    "        def f(v, vp):\n",
    "            out = net.apply(params, v)\n",
    "            tout = net.apply(target_params, vp)\n",
    "            unsup_loss = optax.cosine_distance(out['prediction'], tout['projection']).mean()\n",
    "            logits = out['classification']\n",
    "            ce_loss = optax.softmax_cross_entropy_with_integer_labels(logits, label).mean()\n",
    "            accuracy = (logits.argmax(-1) == label).mean()\n",
    "            return unsup_loss + ce_loss, {\n",
    "                'accuracy': accuracy,\n",
    "                'ce_loss': ce_loss,\n",
    "                'un_loss': unsup_loss,\n",
    "                }\n",
    "        return jax.tree_util.tree_map(lambda x,y: (x+y)/2, f(v1, v2), f(v2,v1))\n",
    "\n",
    "    def step_fn(state, batch):\n",
    "        params = state.params\n",
    "        target_params = state.target_params\n",
    "        rng, subkey = jax.random.split(state.rng)\n",
    "\n",
    "        grad, metrics = jax.grad(loss_fn, has_aux=True)(params, target_params, subkey, batch[0], batch[1])\n",
    "        state = state.update(grad)\n",
    "        metrics.update(grad_norm=optax.global_norm(grad))\n",
    "\n",
    "        return state.replace(rng=rng), metrics\n",
    "    \n",
    "    return step_fn\n",
    "        \n",
    "    "
   ]
  },
  {
   "cell_type": "code",
   "execution_count": 8,
   "id": "d1d0191d-36d2-46b7-b5ac-78440ff2991a",
   "metadata": {},
   "outputs": [],
   "source": [
    "emb_dim = 128\n",
    "depths = (48, 48, 48, 48)\n",
    "kernels = (3, 3, 3, 3)\n",
    "strides = (2, 1, 1, 1)\n",
    "\n",
    "net = BYOL(\n",
    "    encoder=CNN(emb_dim, depths, kernels, strides),\n",
    "    projector=mlp(1024, emb_dim),\n",
    "    predictor=mlp(1024, emb_dim),\n",
    "    classifier=nn.Dense(10)\n",
    ")\n",
    "dummy_img = jnp.ones((32, 32, 3), dtype=jnp.uint8)\n",
    "tout, params = net.init_with_output(key, dummy_img)\n",
    "optim = optax.adamw(1e-3)\n",
    "state = TrainingState.init(key, params, optim, 1e-3)\n",
    "step = jax.jit(byol_fn(net))\n",
    "\n",
    "ds = tfds.load('cifar10', split='all', as_supervised=True)\n",
    "ds = ds.batch(256, drop_remainder=True).cache().repeat().as_numpy_iterator()"
   ]
  },
  {
   "cell_type": "code",
   "execution_count": null,
   "id": "bedc034d-e4c0-4adc-bc5e-b1b8e649e034",
   "metadata": {},
   "outputs": [
    {
     "data": {
      "image/png": "[encoded data removed]",
      "text/plain": [
       "<Figure size 640x480 with 1 Axes>"
      ]
     },
     "metadata": {},
     "output_type": "display_data"
    }
   ],
   "source": [
    "from collections import deque\n",
    "import matplotlib.pyplot as plt\n",
    "from IPython.display import clear_output\n",
    "deq = deque(maxlen=100)\n",
    "logs = []\n",
    "for batch in ds:\n",
    "    state, met = step(state, batch)\n",
    "    deq.append(met['accuracy'].item())\n",
    "    logs.append(np.mean(deq))\n",
    "    clear_output(wait=True)\n",
    "    plt.plot(logs)\n",
    "    plt.show()"
   ]
  }
 ],
 "metadata": {
  "kernelspec": {
   "display_name": "Python 3 (ipykernel)",
   "language": "python",
   "name": "python3"
  },
  "language_info": {
   "codemirror_mode": {
    "name": "ipython",
    "version": 3
   },
   "file_extension": ".py",
   "mimetype": "text/x-python",
   "name": "python",
   "nbconvert_exporter": "python",
   "pygments_lexer": "ipython3",
   "version": "3.11.3"
  }
 },
 "nbformat": 4,
 "nbformat_minor": 5
}
