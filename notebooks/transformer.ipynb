{
 "cells": [
  {
   "cell_type": "code",
   "execution_count": 1,
   "id": "d23fac27-5ffb-4f37-8872-2c6df88a06a0",
   "metadata": {},
   "outputs": [],
   "source": [
    "import functools\n",
    "\n",
    "import numpy as np\n",
    "import jax\n",
    "import jax.numpy as jnp\n",
    "jax.config.update('jax_platform_name', 'cpu')\n",
    "\n",
    "import chex\n",
    "import optax\n",
    "import flax.linen as nn\n",
    "from flax import core\n",
    "\n",
    "Array = jnp.ndarray"
   ]
  },
  {
   "cell_type": "code",
   "execution_count": 9,
   "id": "f3f25168-fd1e-4fe0-897c-ccf948603cde",
   "metadata": {},
   "outputs": [],
   "source": [
    "class A(nn.Module):\n",
    "    a: int\n",
    "    def setup(self):\n",
    "        self.fc = nn.Dense(self.a)\n",
    "\n",
    "    def fc(self, x):\n",
    "        return self.fc(x)"
   ]
  },
  {
   "cell_type": "code",
   "execution_count": 10,
   "id": "7cb5cb28-9062-444c-afba-e19cd076756e",
   "metadata": {},
   "outputs": [],
   "source": [
    "key = jax.random.PRNGKey(0)\n",
    "x = jnp.zeros((5,))\n",
    "m = A(2)"
   ]
  },
  {
   "cell_type": "code",
   "execution_count": 12,
   "id": "e0c11b41-ea05-4757-ab36-eed3a6e24135",
   "metadata": {},
   "outputs": [],
   "source": [
    "params = m.init(key, x, method=m.fc)"
   ]
  },
  {
   "cell_type": "code",
   "execution_count": 13,
   "id": "09788710-bacf-469c-b64b-4479f8f1cb59",
   "metadata": {},
   "outputs": [
    {
     "data": {
      "text/plain": [
       "Array([0., 0.], dtype=float32)"
      ]
     },
     "execution_count": 13,
     "metadata": {},
     "output_type": "execute_result"
    }
   ],
   "source": [
    "m.apply(params, x, method=m.fc)"
   ]
  },
  {
   "cell_type": "code",
   "execution_count": 8,
   "id": "884cead0-af4b-470e-b0e8-5fba1fea9a84",
   "metadata": {},
   "outputs": [
    {
     "ename": "AttributeError",
     "evalue": "\"A\" object has no attribute \"fc\". If \"fc\" is defined in '.setup()', remember these fields are only accessible from inside 'init' or 'apply'.",
     "output_type": "error",
     "traceback": [
      "\u001b[0;31m---------------------------------------------------------------------------\u001b[0m",
      "\u001b[0;31mAttributeError\u001b[0m                            Traceback (most recent call last)",
      "Cell \u001b[0;32mIn[8], line 1\u001b[0m\n\u001b[0;32m----> 1\u001b[0m \u001b[43mm\u001b[49m\u001b[38;5;241;43m.\u001b[39;49m\u001b[43mfc\u001b[49m\n",
      "File \u001b[0;32m~/Apps/anaconda3/envs/flax/lib/python3.11/site-packages/flax/linen/module.py:945\u001b[0m, in \u001b[0;36mModule.__getattr__\u001b[0;34m(self, name)\u001b[0m\n\u001b[1;32m    942\u001b[0m \u001b[38;5;28;01mif\u001b[39;00m \u001b[38;5;28mself\u001b[39m\u001b[38;5;241m.\u001b[39mscope \u001b[38;5;129;01mis\u001b[39;00m \u001b[38;5;28;01mNone\u001b[39;00m:\n\u001b[1;32m    943\u001b[0m   msg \u001b[38;5;241m+\u001b[39m\u001b[38;5;241m=\u001b[39m (\u001b[38;5;124mf\u001b[39m\u001b[38;5;124m'\u001b[39m\u001b[38;5;124m If \u001b[39m\u001b[38;5;124m\"\u001b[39m\u001b[38;5;132;01m{\u001b[39;00mname\u001b[38;5;132;01m}\u001b[39;00m\u001b[38;5;124m\"\u001b[39m\u001b[38;5;124m is defined in \u001b[39m\u001b[38;5;130;01m\\'\u001b[39;00m\u001b[38;5;124m.setup()\u001b[39m\u001b[38;5;130;01m\\'\u001b[39;00m\u001b[38;5;124m, remember these fields \u001b[39m\u001b[38;5;124m'\u001b[39m\n\u001b[1;32m    944\u001b[0m     \u001b[38;5;124m'\u001b[39m\u001b[38;5;124mare only accessible from inside \u001b[39m\u001b[38;5;130;01m\\'\u001b[39;00m\u001b[38;5;124minit\u001b[39m\u001b[38;5;130;01m\\'\u001b[39;00m\u001b[38;5;124m or \u001b[39m\u001b[38;5;130;01m\\'\u001b[39;00m\u001b[38;5;124mapply\u001b[39m\u001b[38;5;130;01m\\'\u001b[39;00m\u001b[38;5;124m.\u001b[39m\u001b[38;5;124m'\u001b[39m)\n\u001b[0;32m--> 945\u001b[0m \u001b[38;5;28;01mraise\u001b[39;00m \u001b[38;5;167;01mAttributeError\u001b[39;00m(msg)\n",
      "\u001b[0;31mAttributeError\u001b[0m: \"A\" object has no attribute \"fc\". If \"fc\" is defined in '.setup()', remember these fields are only accessible from inside 'init' or 'apply'."
     ]
    }
   ],
   "source": [
    "m.fc"
   ]
  },
  {
   "cell_type": "markdown",
   "id": "67b0d348-5c73-4c7e-a0af-b4c5e2fa013c",
   "metadata": {},
   "source": [
    "Consider following things:\n",
    "1. weights initialization\n",
    "2. normalization + dropout\n",
    "3. batching and vmap\n",
    "4. investigate attention maps"
   ]
  },
  {
   "cell_type": "code",
   "execution_count": 3,
   "id": "fdf6ea08-33e2-4f38-9d95-711dedbf72d5",
   "metadata": {},
   "outputs": [],
   "source": [
    "class MLP(nn.Module):\n",
    "    layers: tuple[int, ...]\n",
    "    activate_final: bool = True\n",
    "\n",
    "    @nn.compact\n",
    "    def __call__(self, x):\n",
    "        for i, layer in enumerate(self.layers):\n",
    "            x = nn.Dense(layer)(x)\n",
    "            if i != len(self.layers) - 1 or self.activate_final:\n",
    "                x = nn.LayerNorm()(x)\n",
    "                x = nn.relu(x)\n",
    "        return x"
   ]
  },
  {
   "cell_type": "code",
   "execution_count": 33,
   "id": "2125e9fc-538c-4c6f-bc42-863772de29cd",
   "metadata": {},
   "outputs": [],
   "source": [
    "def scaled_dot_attention(query, key, value):\n",
    "    attn = jnp.einsum('...qhd,...khd->...qhk', query, key)\n",
    "    attn /= np.sqrt(query.shape[-1])\n",
    "    attn = jax.nn.softmax(attn, axis=-1)\n",
    "    value = jnp.einsum('...qhk,...khd->...qhd', attn, value) \n",
    "    return value, attn\n",
    "\n",
    "\n",
    "class MultiHeadAttention(nn.Module):\n",
    "    embed_dim: int\n",
    "    num_heads: int\n",
    "\n",
    "    @nn.compact\n",
    "    def __call__(self, inputs_q, inputs_kv):\n",
    "        dense = functools.partial(\n",
    "            nn.DenseGeneral,\n",
    "            features=(self.num_heads, self.embed_dim),\n",
    "        )\n",
    "        q = dense(name='query')(inputs_q)\n",
    "        k = dense(name='key')(inputs_kv)\n",
    "        v = dense(name='value')(inputs_kv)\n",
    "        val, attn = scaled_dot_attention(q, k, v)\n",
    "        proj = nn.DenseGeneral(self.embed_dim, axis=(-1, -2))\n",
    "        return proj(val), attn"
   ]
  },
  {
   "cell_type": "code",
   "execution_count": 29,
   "id": "bf6e307e-5f85-4326-8f5b-2c70186883f3",
   "metadata": {},
   "outputs": [],
   "source": [
    "class TransformerLayer(nn.Module):\n",
    "    num_heads: int\n",
    "    ff_dim: int\n",
    "\n",
    "    @nn.compact\n",
    "    def __call__(self, x):\n",
    "        mha = MultiHeadAttention(emb_dim, self.num_heads)\n",
    "        y, attn = mha(x, x)\n",
    "        x = nn.LayerNorm()(x + y)\n",
    "        mlp = MLP((self.ff_dim, emb_dim))\n",
    "        return nn.LayerNorm()(x + mlp(x)), attn"
   ]
  },
  {
   "cell_type": "code",
   "execution_count": 32,
   "id": "120f9218-352d-4218-963e-ab492bbb26b5",
   "metadata": {},
   "outputs": [],
   "source": [
    "class TransformerEncoder(nn.Module):\n",
    "    num_layers: int\n",
    "    embed_dim: int\n",
    "    num_heads: int\n",
    "    ff_dim: int\n",
    "\n",
    "    @nn.compact\n",
    "    def __call__(self, x):\n",
    "        for i in range(self.num_layers):\n",
    "            layer = TransformerLayer(self.embed_dim, self.num_heads, self.ff_dim)\n",
    "            x, _ = layer(x)\n",
    "        return x"
   ]
  },
  {
   "cell_type": "code",
   "execution_count": null,
   "id": "4af6ff4c-4de6-4fa6-8850-00a34bfab92a",
   "metadata": {},
   "outputs": [],
   "source": [
    "def positional_encoding(bandwidth, num_freq):\n",
    "    fs = jnp.linspace(-bandwidth, bandwidth, 2*num_req + 1)"
   ]
  },
  {
   "cell_type": "code",
   "execution_count": 39,
   "id": "0a95c3ae-1445-4c32-a2be-7c775ca74505",
   "metadata": {},
   "outputs": [
    {
     "data": {
      "text/plain": [
       "Array([ 1.       ,  1.1800001,  1.3599999,  1.54     ,  1.72     ,\n",
       "        1.8999999,  2.08     ,  2.2599998,  2.44     ,  2.62     ,\n",
       "        2.8      ,  2.9799998,  3.1599998,  3.34     ,  3.5199997,\n",
       "        3.6999998,  3.8799999,  4.06     ,  4.24     ,  4.4199996,\n",
       "        4.6      ,  4.7799997,  4.9599996,  5.14     ,  5.3199997,\n",
       "        5.4999995,  5.68     ,  5.8599997,  6.0399995,  6.22     ,\n",
       "        6.3999996,  6.58     ,  6.7599998,  6.9399996,  7.12     ,\n",
       "        7.2999997,  7.48     ,  7.66     ,  7.839999 ,  8.0199995,\n",
       "        8.2      ,  8.38     ,  8.559999 ,  8.74     ,  8.919999 ,\n",
       "        9.099999 ,  9.28     ,  9.46     ,  9.639999 ,  9.82     ,\n",
       "       10.       ], dtype=float32)"
      ]
     },
     "execution_count": 39,
     "metadata": {},
     "output_type": "execute_result"
    }
   ],
   "source": [
    "jnp.linspace(1, 10, 51)"
   ]
  },
  {
   "cell_type": "code",
   "execution_count": 2,
   "id": "2a1724a6-0d8e-4c1a-b5d0-28f7fab47043",
   "metadata": {},
   "outputs": [],
   "source": [
    "def _emb1d(dim_size: int, num_freq: int, nyquist_freq: float) -> Array:\n",
    "    x = jnp.linspace(-1, 1, dim_size)\n",
    "    fs = jnp.linspace(1, nyquist_freq, num_freq)\n",
    "    p = jnp.outer(x, fs)\n",
    "    return jnp.concatenate([jnp.sin(jnp.pi * p), jnp.cos(jnp.pi * p)], -1)"
   ]
  },
  {
   "cell_type": "markdown",
   "id": "2a8d576c-8bbc-4789-8f85-e602370e1381",
   "metadata": {},
   "source": [
    "[H, W, C] -> [H, W, C * (1 + 2K_H + 2K_W)] -> [H * W, C * (...)]"
   ]
  },
  {
   "cell_type": "code",
   "execution_count": null,
   "id": "34a8aa95-ecc8-40ae-b5e6-eb82eb8abae9",
   "metadata": {},
   "outputs": [],
   "source": [
    "def positional_encoding(x: Array,\n",
    "                        num_freq: tuple[int],\n",
    "                        nyquist_freqs: tuple[float],\n",
    "                        axes: tuple[int]\n",
    "                       ) -> Array:\n",
    "    shape = np.asarray(x.shape)\n",
    "    for n, freq, axis in zip(num_freq, nyquist_freqs, axes):\n",
    "        enc = _emb1d(x.shape[axis], n, freq)\n",
    "        e"
   ]
  },
  {
   "cell_type": "markdown",
   "id": "4d546871-7704-41fd-89a8-47ed7af77bd2",
   "metadata": {},
   "source": [
    "[*batch_dims, *modality_dimensions, features_dim] -> [*batch_dims, features with embeddings]\n",
    "features with embeddings = C1 + 2*K_i * D_i"
   ]
  },
  {
   "cell_type": "code",
   "execution_count": null,
   "id": "d118aac2-574e-4371-8322-9ebc6790bc72",
   "metadata": {},
   "outputs": [],
   "source": [
    "def position_embedding(x, nyquist_freq, num_bands):\n",
    "    # TODO: implement positional embedding\n",
    "    "
   ]
  },
  {
   "cell_type": "code",
   "execution_count": null,
   "id": "45d1ac9b-2f96-431e-98d8-9ec4ff0c30d3",
   "metadata": {},
   "outputs": [],
   "source": []
  }
 ],
 "metadata": {
  "kernelspec": {
   "display_name": "Python 3 (ipykernel)",
   "language": "python",
   "name": "python3"
  },
  "language_info": {
   "codemirror_mode": {
    "name": "ipython",
    "version": 3
   },
   "file_extension": ".py",
   "mimetype": "text/x-python",
   "name": "python",
   "nbconvert_exporter": "python",
   "pygments_lexer": "ipython3",
   "version": "3.10.12"
  }
 },
 "nbformat": 4,
 "nbformat_minor": 5
}
